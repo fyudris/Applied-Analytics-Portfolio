{
 "cells": [
  {
   "cell_type": "markdown",
   "metadata": {},
   "source": [
    "# PATIENT FALL RISK ASSESSMENT PROJECT"
   ]
  },
  {
   "cell_type": "markdown",
   "metadata": {},
   "source": [
    "herrerer"
   ]
  },
  {
   "cell_type": "markdown",
   "metadata": {},
   "source": [
    "## Background"
   ]
  },
  {
   "cell_type": "markdown",
   "metadata": {},
   "source": [
    "\n",
    "The clinic's director seeks to improve patient safety and reduce fall-related incidents. Falls among patients pose a significant risk, leading to severe health complications and increased healthcare costs. To address this issue, a data-driven assessment is required to better understand the factors contributing to falls and to develop predictive measures for mitigating them effectively.\n",
    "\n",
    "The dataset used for this analysis consists of patient-related information, categorized into two types:\n",
    "\n",
    " - Medical Data: Collected upon patient admission and during patient stay, this dataset includes age, gender, diagnosis, and procedure. This data is always available for every patient.\n",
    "\n",
    " - Nursing Data: The remaining variables in this dataset come from the so-called fall risk assessment. This assessment is conducted by nurses and contains various risk factors that are assumed to contribute to patient falls. Unlike medical data, nursing data is manually recorded and is only collected for specific patients—namely, those deemed at an increased risk of falling or those who exceed a certain age threshold. From these variables also the variable fall risk is derived, that is the traditional nursing assessment of a patient’s fall risk.\n",
    "\n",
    "Our task is to conduct a predictive analytics project with two main objectives:\n",
    "\n",
    "1) Develop a reliable assessment of the risk of patient falls based on historical data.\n",
    "\n",
    "2) Identify key factors that contribute to fall incidents."
   ]
  },
  {
   "cell_type": "markdown",
   "metadata": {},
   "source": []
  },
  {
   "cell_type": "markdown",
   "metadata": {},
   "source": [
    "## Section 1: Data Overview and Preparation"
   ]
  },
  {
   "cell_type": "markdown",
   "metadata": {},
   "source": [
    "In this section, we:\n",
    " - Provide a clear and intuitive summary of the dataset.\n",
    "\n",
    " - Define an approach to identify outliers and implement an appropriate method to handle them.\n",
    "\n",
    " - Identify and assess missing data. Define an approach to handle the missing data.\n",
    "\n",
    " - Establish an appropriate strategy for partitioning training and testing datasets\n"
   ]
  },
  {
   "cell_type": "markdown",
   "metadata": {},
   "source": [
    "### Import Necessary Libraries"
   ]
  },
  {
   "cell_type": "code",
   "execution_count": null,
   "metadata": {},
   "outputs": [],
   "source": [
    "# Installations (only need to run once)\n",
    "\n",
    "# %pip install autoviz\n",
    "# %pip install miceforest\n",
    "# %pip install prince\n",
    "# %pip install gower\n",
    "# %pip install shap\n",
    "# %pip install imblearn\n",
    "# %pip install tpot"
   ]
  },
  {
   "cell_type": "code",
   "execution_count": 2,
   "metadata": {},
   "outputs": [],
   "source": [
    "import pandas as pd\n",
    "# %pip install autoviz\n",
    "#from autoviz.AutoViz_Class import AutoViz_Class\n",
    "import seaborn as sns\n",
    "import matplotlib.pyplot as plt\n",
    "from scipy.stats import chi2_contingency\n",
    "import numpy as np\n",
    "import scipy.stats as stats\n",
    "from sklearn.tree import DecisionTreeClassifier\n",
    "from sklearn.model_selection import train_test_split\n",
    "from sklearn.metrics import classification_report\n",
    "from sklearn.tree import plot_tree\n",
    "from sklearn.tree import export_text\n",
    "from sklearn.model_selection import GridSearchCV\n",
    "from sklearn.metrics import make_scorer, f1_score, recall_score\n",
    "from sklearn.metrics import (\n",
    "     accuracy_score, recall_score, precision_score, f1_score, confusion_matrix, roc_curve\n",
    " )\n",
    "from sklearn.preprocessing import StandardScaler\n",
    "from sklearn.model_selection import GridSearchCV, StratifiedKFold, cross_val_predict\n",
    "from sklearn.tree import DecisionTreeClassifier\n",
    "from sklearn.metrics import (\n",
    "     precision_recall_curve, roc_auc_score, confusion_matrix, classification_report, auc\n",
    " )\n",
    "\n",
    "import xgboost as xgb\n",
    "import shap\n",
    "from sklearn.preprocessing import OrdinalEncoder\n",
    "from sklearn.decomposition import PCA\n",
    "from sklearn.linear_model import LogisticRegression\n",
    "from sklearn.ensemble import RandomForestClassifier\n",
    "from xgboost import XGBClassifier\n",
    "from sklearn.metrics import accuracy_score, f1_score, roc_auc_score\n",
    "import shap\n",
    "import prince\n",
    "import matplotlib.pyplot as plt\n",
    "from sklearn.feature_selection import mutual_info_classif\n",
    "from sklearn.preprocessing import LabelEncoder\n",
    "from sklearn.preprocessing import MinMaxScaler\n",
    "from sklearn.metrics import roc_curve, confusion_matrix, ConfusionMatrixDisplay\n",
    "from catboost import CatBoostClassifier, Pool"
   ]
  },
  {
   "cell_type": "code",
   "execution_count": 3,
   "metadata": {},
   "outputs": [],
   "source": [
    "pd.set_option('display.max_rows', 200)"
   ]
  },
  {
   "cell_type": "markdown",
   "metadata": {},
   "source": [
    "### 1.1 SUMMARY OF THE DATASET"
   ]
  },
  {
   "cell_type": "code",
   "execution_count": 4,
   "metadata": {},
   "outputs": [
    {
     "data": {
      "text/plain": [
       "'/Users/fyudris/GitRepo/workspace_AppliedAnalyticsPortfolio'"
      ]
     },
     "execution_count": 4,
     "metadata": {},
     "output_type": "execute_result"
    }
   ],
   "source": [
    "pwd()"
   ]
  },
  {
   "cell_type": "code",
   "execution_count": 5,
   "metadata": {},
   "outputs": [
    {
     "data": {
      "text/html": [
       "<div>\n",
       "<style scoped>\n",
       "    .dataframe tbody tr th:only-of-type {\n",
       "        vertical-align: middle;\n",
       "    }\n",
       "\n",
       "    .dataframe tbody tr th {\n",
       "        vertical-align: top;\n",
       "    }\n",
       "\n",
       "    .dataframe thead th {\n",
       "        text-align: right;\n",
       "    }\n",
       "</style>\n",
       "<table border=\"1\" class=\"dataframe\">\n",
       "  <thead>\n",
       "    <tr style=\"text-align: right;\">\n",
       "      <th></th>\n",
       "      <th>fallen</th>\n",
       "      <th>id</th>\n",
       "      <th>age</th>\n",
       "      <th>procedure</th>\n",
       "      <th>diagnosis</th>\n",
       "      <th>c_zriserh1</th>\n",
       "      <th>decubitus-admission</th>\n",
       "      <th>decubitus-at_the_moment</th>\n",
       "      <th>bed_mobility-impairment</th>\n",
       "      <th>bed_mobility-jones</th>\n",
       "      <th>...</th>\n",
       "      <th>cognition-disoriented_time</th>\n",
       "      <th>cognition-disoriented_location</th>\n",
       "      <th>cognition-disoriented_own_person</th>\n",
       "      <th>cognition-agitated</th>\n",
       "      <th>cognition-confused</th>\n",
       "      <th>psychotropic_or_sedatives_drugs</th>\n",
       "      <th>decubitus-risk</th>\n",
       "      <th>fall-risk</th>\n",
       "      <th>diseases</th>\n",
       "      <th>sex</th>\n",
       "    </tr>\n",
       "  </thead>\n",
       "  <tbody>\n",
       "    <tr>\n",
       "      <th>0</th>\n",
       "      <td>False</td>\n",
       "      <td>179020</td>\n",
       "      <td>39</td>\n",
       "      <td>0</td>\n",
       "      <td>S250</td>\n",
       "      <td>False</td>\n",
       "      <td>NaN</td>\n",
       "      <td>NaN</td>\n",
       "      <td>NaN</td>\n",
       "      <td>NaN</td>\n",
       "      <td>...</td>\n",
       "      <td>False</td>\n",
       "      <td>False</td>\n",
       "      <td>False</td>\n",
       "      <td>False</td>\n",
       "      <td>False</td>\n",
       "      <td>False</td>\n",
       "      <td>NaN</td>\n",
       "      <td>NaN</td>\n",
       "      <td>False</td>\n",
       "      <td>female</td>\n",
       "    </tr>\n",
       "    <tr>\n",
       "      <th>1</th>\n",
       "      <td>False</td>\n",
       "      <td>112009</td>\n",
       "      <td>29</td>\n",
       "      <td>0</td>\n",
       "      <td>M418</td>\n",
       "      <td>False</td>\n",
       "      <td>False</td>\n",
       "      <td>NaN</td>\n",
       "      <td>NaN</td>\n",
       "      <td>NaN</td>\n",
       "      <td>...</td>\n",
       "      <td>False</td>\n",
       "      <td>False</td>\n",
       "      <td>False</td>\n",
       "      <td>False</td>\n",
       "      <td>False</td>\n",
       "      <td>False</td>\n",
       "      <td>NaN</td>\n",
       "      <td>NaN</td>\n",
       "      <td>NaN</td>\n",
       "      <td>male</td>\n",
       "    </tr>\n",
       "    <tr>\n",
       "      <th>2</th>\n",
       "      <td>False</td>\n",
       "      <td>54403</td>\n",
       "      <td>29</td>\n",
       "      <td>9-26</td>\n",
       "      <td>S910</td>\n",
       "      <td>False</td>\n",
       "      <td>NaN</td>\n",
       "      <td>False</td>\n",
       "      <td>NaN</td>\n",
       "      <td>NaN</td>\n",
       "      <td>...</td>\n",
       "      <td>False</td>\n",
       "      <td>False</td>\n",
       "      <td>False</td>\n",
       "      <td>False</td>\n",
       "      <td>False</td>\n",
       "      <td>NaN</td>\n",
       "      <td>NaN</td>\n",
       "      <td>0</td>\n",
       "      <td>NaN</td>\n",
       "      <td>female</td>\n",
       "    </tr>\n",
       "    <tr>\n",
       "      <th>3</th>\n",
       "      <td>False</td>\n",
       "      <td>13054</td>\n",
       "      <td>64</td>\n",
       "      <td>8-77</td>\n",
       "      <td>M400</td>\n",
       "      <td>True</td>\n",
       "      <td>NaN</td>\n",
       "      <td>NaN</td>\n",
       "      <td>NaN</td>\n",
       "      <td>NaN</td>\n",
       "      <td>...</td>\n",
       "      <td>False</td>\n",
       "      <td>False</td>\n",
       "      <td>False</td>\n",
       "      <td>False</td>\n",
       "      <td>False</td>\n",
       "      <td>False</td>\n",
       "      <td>0</td>\n",
       "      <td>0</td>\n",
       "      <td>False</td>\n",
       "      <td>male</td>\n",
       "    </tr>\n",
       "    <tr>\n",
       "      <th>4</th>\n",
       "      <td>False</td>\n",
       "      <td>45770</td>\n",
       "      <td>89</td>\n",
       "      <td>8-93</td>\n",
       "      <td>K630</td>\n",
       "      <td>False</td>\n",
       "      <td>NaN</td>\n",
       "      <td>False</td>\n",
       "      <td>NaN</td>\n",
       "      <td>NaN</td>\n",
       "      <td>...</td>\n",
       "      <td>False</td>\n",
       "      <td>False</td>\n",
       "      <td>False</td>\n",
       "      <td>False</td>\n",
       "      <td>False</td>\n",
       "      <td>False</td>\n",
       "      <td>NaN</td>\n",
       "      <td>NaN</td>\n",
       "      <td>NaN</td>\n",
       "      <td>male</td>\n",
       "    </tr>\n",
       "  </tbody>\n",
       "</table>\n",
       "<p>5 rows × 45 columns</p>\n",
       "</div>"
      ],
      "text/plain": [
       "   fallen      id  age procedure diagnosis  c_zriserh1 decubitus-admission  \\\n",
       "0   False  179020   39         0      S250       False                 NaN   \n",
       "1   False  112009   29         0      M418       False               False   \n",
       "2   False   54403   29      9-26      S910       False                 NaN   \n",
       "3   False   13054   64      8-77      M400        True                 NaN   \n",
       "4   False   45770   89      8-93      K630       False                 NaN   \n",
       "\n",
       "  decubitus-at_the_moment bed_mobility-impairment bed_mobility-jones  ...  \\\n",
       "0                     NaN                     NaN                NaN  ...   \n",
       "1                     NaN                     NaN                NaN  ...   \n",
       "2                   False                     NaN                NaN  ...   \n",
       "3                     NaN                     NaN                NaN  ...   \n",
       "4                   False                     NaN                NaN  ...   \n",
       "\n",
       "  cognition-disoriented_time cognition-disoriented_location  \\\n",
       "0                      False                          False   \n",
       "1                      False                          False   \n",
       "2                      False                          False   \n",
       "3                      False                          False   \n",
       "4                      False                          False   \n",
       "\n",
       "  cognition-disoriented_own_person cognition-agitated  cognition-confused  \\\n",
       "0                            False              False               False   \n",
       "1                            False              False               False   \n",
       "2                            False              False               False   \n",
       "3                            False              False               False   \n",
       "4                            False              False               False   \n",
       "\n",
       "   psychotropic_or_sedatives_drugs  decubitus-risk  fall-risk  diseases  \\\n",
       "0                            False             NaN        NaN     False   \n",
       "1                            False             NaN        NaN       NaN   \n",
       "2                              NaN             NaN          0       NaN   \n",
       "3                            False               0          0     False   \n",
       "4                            False             NaN        NaN       NaN   \n",
       "\n",
       "      sex  \n",
       "0  female  \n",
       "1    male  \n",
       "2  female  \n",
       "3    male  \n",
       "4    male  \n",
       "\n",
       "[5 rows x 45 columns]"
      ]
     },
     "execution_count": 5,
     "metadata": {},
     "output_type": "execute_result"
    }
   ],
   "source": [
    "# Load the dataset\n",
    "path = \"data/kip_sdm_syn.csv\"\n",
    "df = pd.read_csv(path, sep=\",\")\n",
    "\n",
    "# Display the first few rows to understand the structure\n",
    "df.head()"
   ]
  },
  {
   "cell_type": "markdown",
   "metadata": {},
   "source": [
    "#### Shape and Data Types"
   ]
  },
  {
   "cell_type": "code",
   "execution_count": 6,
   "metadata": {},
   "outputs": [
    {
     "name": "stdout",
     "output_type": "stream",
     "text": [
      "Number of rows and columns: (40000, 45)\n",
      "\n",
      "Data Types:\n",
      " object     23\n",
      "bool       19\n",
      "int64       2\n",
      "float64     1\n",
      "Name: count, dtype: int64\n",
      "\n",
      "Column Names:\n",
      " ['fallen', 'id', 'age', 'procedure', 'diagnosis', 'c_zriserh1', 'decubitus-admission', 'decubitus-at_the_moment', 'bed_mobility-impairment', 'bed_mobility-jones', 'bed_mobility-skin_condition', 'transfer-impairment', 'transfer', 'medical_items', 'medical_items-arm_or_leg_splint', 'medical_items-A_V_system', 'medical_items-plaster_or_neck_brace', 'medical_items-compression_stocking', 'medical_items-ventilation_mask', 'medical_items-O2_glasses', 'medical_items-orthesis', 'medical_items-prosthesis', 'medical_items-skin_condition_at_item_application', 'fall-last_12_month', 'fall-how_many_last_12_month', 'fall-while_stay', 'fall-while_transfer', 'walk-impairment', 'walk-jones', 'walk-balance_and_gait_impaired', 'walking_aid', 'excretions-impairment', 'excretions-incontinence', 'excretions-nykturie', 'cognition-impairment', 'cognition-disoriented_time', 'cognition-disoriented_location', 'cognition-disoriented_own_person', 'cognition-agitated', 'cognition-confused', 'psychotropic_or_sedatives_drugs', 'decubitus-risk', 'fall-risk', 'diseases', 'sex']\n"
     ]
    }
   ],
   "source": [
    "print(\"Number of rows and columns:\", df.shape)\n",
    "print(\"\\nData Types:\\n\", df.dtypes.value_counts())\n",
    "print(\"\\nColumn Names:\\n\", df.columns.tolist())"
   ]
  },
  {
   "cell_type": "code",
   "execution_count": 7,
   "metadata": {},
   "outputs": [
    {
     "name": "stdout",
     "output_type": "stream",
     "text": [
      "\n",
      "Variable names and their data types:\n",
      "fallen                                                 bool\n",
      "id                                                    int64\n",
      "age                                                   int64\n",
      "procedure                                            object\n",
      "diagnosis                                            object\n",
      "c_zriserh1                                             bool\n",
      "decubitus-admission                                  object\n",
      "decubitus-at_the_moment                              object\n",
      "bed_mobility-impairment                              object\n",
      "bed_mobility-jones                                   object\n",
      "bed_mobility-skin_condition                          object\n",
      "transfer-impairment                                  object\n",
      "transfer                                             object\n",
      "medical_items                                        object\n",
      "medical_items-arm_or_leg_splint                        bool\n",
      "medical_items-A_V_system                               bool\n",
      "medical_items-plaster_or_neck_brace                    bool\n",
      "medical_items-compression_stocking                     bool\n",
      "medical_items-ventilation_mask                         bool\n",
      "medical_items-O2_glasses                               bool\n",
      "medical_items-orthesis                                 bool\n",
      "medical_items-prosthesis                               bool\n",
      "medical_items-skin_condition_at_item_application     object\n",
      "fall-last_12_month                                   object\n",
      "fall-how_many_last_12_month                         float64\n",
      "fall-while_stay                                      object\n",
      "fall-while_transfer                                  object\n",
      "walk-impairment                                      object\n",
      "walk-jones                                           object\n",
      "walk-balance_and_gait_impaired                         bool\n",
      "walking_aid                                            bool\n",
      "excretions-impairment                                object\n",
      "excretions-incontinence                                bool\n",
      "excretions-nykturie                                    bool\n",
      "cognition-impairment                                 object\n",
      "cognition-disoriented_time                             bool\n",
      "cognition-disoriented_location                         bool\n",
      "cognition-disoriented_own_person                       bool\n",
      "cognition-agitated                                     bool\n",
      "cognition-confused                                     bool\n",
      "psychotropic_or_sedatives_drugs                      object\n",
      "decubitus-risk                                       object\n",
      "fall-risk                                            object\n",
      "diseases                                             object\n",
      "sex                                                  object\n",
      "dtype: object\n"
     ]
    }
   ],
   "source": [
    "# Overview of all variable names and their data types\n",
    "print(\"\\nVariable names and their data types:\")\n",
    "print(df.dtypes)  # Displays column names with their data types"
   ]
  },
  {
   "cell_type": "code",
   "execution_count": 8,
   "metadata": {},
   "outputs": [
    {
     "name": "stdout",
     "output_type": "stream",
     "text": [
      "fallen                                                  2\n",
      "id                                                  38226\n",
      "age                                                    84\n",
      "procedure                                             209\n",
      "diagnosis                                            3345\n",
      "c_zriserh1                                              2\n",
      "decubitus-admission                                     1\n",
      "decubitus-at_the_moment                                 2\n",
      "bed_mobility-impairment                                 2\n",
      "bed_mobility-jones                                      5\n",
      "bed_mobility-skin_condition                             2\n",
      "transfer-impairment                                     2\n",
      "transfer                                                5\n",
      "medical_items                                           2\n",
      "medical_items-arm_or_leg_splint                         2\n",
      "medical_items-A_V_system                                1\n",
      "medical_items-plaster_or_neck_brace                     2\n",
      "medical_items-compression_stocking                      2\n",
      "medical_items-ventilation_mask                          2\n",
      "medical_items-O2_glasses                                2\n",
      "medical_items-orthesis                                  2\n",
      "medical_items-prosthesis                                2\n",
      "medical_items-skin_condition_at_item_application        2\n",
      "fall-last_12_month                                      2\n",
      "fall-how_many_last_12_month                            19\n",
      "fall-while_stay                                         2\n",
      "fall-while_transfer                                     2\n",
      "walk-impairment                                         2\n",
      "walk-jones                                              5\n",
      "walk-balance_and_gait_impaired                          2\n",
      "walking_aid                                             2\n",
      "excretions-impairment                                   2\n",
      "excretions-incontinence                                 2\n",
      "excretions-nykturie                                     2\n",
      "cognition-impairment                                    2\n",
      "cognition-disoriented_time                              2\n",
      "cognition-disoriented_location                          2\n",
      "cognition-disoriented_own_person                        2\n",
      "cognition-agitated                                      2\n",
      "cognition-confused                                      2\n",
      "psychotropic_or_sedatives_drugs                         2\n",
      "decubitus-risk                                          3\n",
      "fall-risk                                               3\n",
      "diseases                                                2\n",
      "sex                                                     2\n",
      "dtype: int64\n"
     ]
    }
   ],
   "source": [
    "# Counts the unique values in each column of the DataFrame `df`.\n",
    "\n",
    "# This step helps in understanding the variability and distribution of data within each column.\n",
    "# It is particularly useful for identifying categorical variables, columns with low variance,\n",
    "# and potential issues such as columns with a single unique value or unexpected data types.\n",
    "\n",
    "unique_counts = df.nunique()\n",
    "print(unique_counts)"
   ]
  },
  {
   "cell_type": "markdown",
   "metadata": {},
   "source": [
    "##### Observations: Columns with Low Variance\n",
    "- Some columns, such as `medical_items-A_V_system` and `decubitus-admission`, lack variance and hold no predictive power. These columns are dropped in subsequent steps.\n",
    "- The variable `c_zriserh1` is undocumented and is also removed from the dataset."
   ]
  },
  {
   "cell_type": "code",
   "execution_count": 9,
   "metadata": {},
   "outputs": [
    {
     "data": {
      "text/plain": [
       "decubitus-admission\n",
       "False    9399\n",
       "Name: count, dtype: int64"
      ]
     },
     "execution_count": 9,
     "metadata": {},
     "output_type": "execute_result"
    }
   ],
   "source": [
    "df[\"decubitus-admission\"].value_counts()"
   ]
  },
  {
   "cell_type": "code",
   "execution_count": 10,
   "metadata": {},
   "outputs": [
    {
     "data": {
      "text/plain": [
       "medical_items-A_V_system\n",
       "False    40000\n",
       "Name: count, dtype: int64"
      ]
     },
     "execution_count": 10,
     "metadata": {},
     "output_type": "execute_result"
    }
   ],
   "source": [
    "df[\"medical_items-A_V_system\"].value_counts()"
   ]
  },
  {
   "cell_type": "markdown",
   "metadata": {},
   "source": [
    "##### Actions Taken\n",
    "- Dropped columns with no predictive power: `medical_items-A_V_system`, `decubitus-admission`, and `c_zriserh1`.\n",
    "- Inspected the distribution of unique values and data types to guide preprocessing and feature engineering."
   ]
  },
  {
   "cell_type": "code",
   "execution_count": 11,
   "metadata": {},
   "outputs": [],
   "source": [
    "df = df.drop([\"medical_items-A_V_system\", \"decubitus-admission\", \"c_zriserh1\"], axis=1)"
   ]
  },
  {
   "cell_type": "markdown",
   "metadata": {},
   "source": [
    "#### Distribution of the Target Variable `fallen`"
   ]
  },
  {
   "cell_type": "markdown",
   "metadata": {},
   "source": [
    "The target variable `fallen` represents whether a patient has experienced a fall (1 = Yes, 0 = No). Understanding the distribution of this variable is crucial for assessing class imbalance, which can significantly impact model performance.\n",
    "\n",
    "- **Visualization**: A count plot is used to display the distribution of the `fallen` variable. The y-axis is scaled logarithmically to better visualize the counts, especially if there is a significant class imbalance.\n",
    "- **Annotations**: Each bar in the plot is annotated with its respective count for clarity.\n",
    "\n",
    "The code below generates the visualization:"
   ]
  },
  {
   "cell_type": "code",
   "execution_count": 12,
   "metadata": {},
   "outputs": [
    {
     "data": {
      "image/png": "[encoded data removed]",
      "text/plain": [
       "<Figure size 640x480 with 1 Axes>"
      ]
     },
     "metadata": {},
     "output_type": "display_data"
    }
   ],
   "source": [
    "sns.countplot(data=df, x='fallen')\n",
    "plt.title('Distribution of Target Variable (Fallen)')\n",
    "plt.xlabel('Fallen (0 = No, 1 = Yes)')\n",
    "plt.ylabel('Count')\n",
    "\n",
    "# Annotate the bars with their respective counts\n",
    "for p in plt.gca().patches:\n",
    "\tcount = int(p.get_height())\n",
    "\tplt.annotate(f'{count}', (p.get_x() + p.get_width() / 2., p.get_height()),\n",
    "\t\t\t\t ha='center', va='center', fontsize=10, color='black', xytext=(0, 5),\n",
    "\t\t\t\t textcoords='offset points')\n",
    "\n",
    "plt.yscale('log')  # Use logarithmic scale for better visualization\n",
    "plt.show()"
   ]
  },
  {
   "cell_type": "code",
   "execution_count": 13,
   "metadata": {},
   "outputs": [
    {
     "name": "stdout",
     "output_type": "stream",
     "text": [
      "Value distribution for 'fallen':\n",
      "fallen\n",
      "False    39905\n",
      "True        95\n",
      "Name: count, dtype: int64\n",
      "\n",
      "Percentage of Fall Incidents:\n",
      " fallen\n",
      "False    99.76\n",
      "True      0.24\n",
      "Name: proportion, dtype: float64\n"
     ]
    }
   ],
   "source": [
    "print(\"Value distribution for 'fallen':\")\n",
    "print(df['fallen'].value_counts())\n",
    "fall_counts = df['fallen'].value_counts(normalize=True) * 100\n",
    "print(\"\\nPercentage of Fall Incidents:\\n\", fall_counts.round(2))"
   ]
  },
  {
   "cell_type": "markdown",
   "metadata": {},
   "source": [
    "**Key Observations**:\n",
    "- The distribution of the `fallen` variable is imbalanced, with significantly more instances of patients who did not fall compared to those who did.\n",
    "- This imbalance will need to be addressed during model training, possibly through techniques such as oversampling, undersampling, or using class-weighted algorithms."
   ]
  },
  {
   "cell_type": "markdown",
   "metadata": {},
   "source": [
    "#### Check Missing Values"
   ]
  },
  {
   "cell_type": "markdown",
   "metadata": {},
   "source": [
    "In this section, we analyze the missing data in the dataset to understand its extent and distribution. This step is crucial for determining the appropriate imputation strategies and handling missing values effectively."
   ]
  },
  {
   "cell_type": "code",
   "execution_count": 14,
   "metadata": {},
   "outputs": [
    {
     "name": "stdout",
     "output_type": "stream",
     "text": [
      "\n",
      "Missing Values per Column:\n",
      "                                                   Missing Values  Percentage\n",
      "medical_items-skin_condition_at_item_application           38637       96.59\n",
      "fall-how_many_last_12_month                                38600       96.50\n",
      "bed_mobility-skin_condition                                38447       96.12\n",
      "bed_mobility-jones                                         37593       93.98\n",
      "fall-while_stay                                            37212       93.03\n",
      "transfer                                                   36994       92.48\n",
      "walk-jones                                                 35627       89.07\n",
      "decubitus-at_the_moment                                    30401       76.00\n",
      "psychotropic_or_sedatives_drugs                            30203       75.51\n",
      "cognition-impairment                                       29957       74.89\n",
      "diseases                                                   29956       74.89\n",
      "excretions-impairment                                      29917       74.79\n",
      "fall-last_12_month                                         29853       74.63\n",
      "medical_items                                              29203       73.01\n",
      "bed_mobility-impairment                                    28872       72.18\n",
      "fall-while_transfer                                        28621       71.55\n",
      "transfer-impairment                                        28588       71.47\n",
      "decubitus-risk                                             28511       71.28\n",
      "walk-impairment                                            27886       69.72\n",
      "fall-risk                                                  27672       69.18\n",
      "excretions-nykturie                                            0        0.00\n",
      "cognition-confused                                             0        0.00\n",
      "cognition-disoriented_time                                     0        0.00\n",
      "cognition-disoriented_location                                 0        0.00\n",
      "cognition-disoriented_own_person                               0        0.00\n",
      "cognition-agitated                                             0        0.00\n",
      "excretions-incontinence                                        0        0.00\n",
      "fallen                                                         0        0.00\n",
      "walking_aid                                                    0        0.00\n",
      "walk-balance_and_gait_impaired                                 0        0.00\n",
      "id                                                             0        0.00\n",
      "medical_items-prosthesis                                       0        0.00\n",
      "medical_items-orthesis                                         0        0.00\n",
      "medical_items-O2_glasses                                       0        0.00\n",
      "medical_items-ventilation_mask                                 0        0.00\n",
      "medical_items-compression_stocking                             0        0.00\n",
      "medical_items-plaster_or_neck_brace                            0        0.00\n",
      "medical_items-arm_or_leg_splint                                0        0.00\n",
      "diagnosis                                                      0        0.00\n",
      "procedure                                                      0        0.00\n",
      "age                                                            0        0.00\n",
      "sex                                                            0        0.00\n"
     ]
    }
   ],
   "source": [
    "# Calculate missing values and percentages for all columns\n",
    "missing = df.isnull().sum()\n",
    "missing_percentage = (missing / len(df)) * 100\n",
    "\n",
    "# Create a DataFrame for the summary\n",
    "missing_summary = pd.DataFrame({\n",
    "\t'Missing Values': missing,\n",
    "\t'Percentage': missing_percentage.round(2)\n",
    "}).sort_values(by='Percentage', ascending=False)\n",
    "\n",
    "# Display the summary\n",
    "print(\"\\nMissing Values per Column:\\n\", missing_summary)"
   ]
  },
  {
   "cell_type": "code",
   "execution_count": 15,
   "metadata": {},
   "outputs": [
    {
     "data": {
      "image/png": "[encoded data removed]",
      "text/plain": [
       "<Figure size 1200x600 with 1 Axes>"
      ]
     },
     "metadata": {},
     "output_type": "display_data"
    }
   ],
   "source": [
    "# Visualizing missing data\n",
    "plt.figure(figsize=(12, 6))\n",
    "sns.heatmap(df.isnull(), cbar=False, yticklabels=False)\n",
    "plt.title('Heatmap of Missing Values')\n",
    "plt.show()"
   ]
  },
  {
   "cell_type": "markdown",
   "metadata": {},
   "source": [
    "##### Observations: Missingness\n",
    "- The heatmap of missing values reveals that certain columns have a significant proportion of missing data, with some exceeding 90%.  \n",
    "- The absence of clear patterns in the missing data suggests that the missingness is likely not completely random (MNAR), and domain knowledge might be necessary to determine the best imputation strategy.  \n",
    "- Logical columns with high missingness might represent \"not assessed\" or \"unknown\" states, which could be encoded as separate categories."
   ]
  },
  {
   "cell_type": "markdown",
   "metadata": {},
   "source": []
  },
  {
   "cell_type": "markdown",
   "metadata": {},
   "source": [
    "### 1.2 HANDLING MISSING DATA"
   ]
  },
  {
   "cell_type": "markdown",
   "metadata": {},
   "source": [
    "From the provided explanations, we have the following columns to consider:\n",
    "  - Columns with 0 missing values (fully recorded) an require no imputation.\n",
    "  - Logical columns with high missingness => means \"not assessed\" or \"unknown\".\n",
    "  - Jones score columns, '`decubitus-risk` and `fall-risk` (character) with values `{0, +, ++}` that hold ordinal values."
   ]
  },
  {
   "cell_type": "markdown",
   "metadata": {},
   "source": [
    "#### 1.2.1 Handle Missing Data in Boolean Variables"
   ]
  },
  {
   "cell_type": "markdown",
   "metadata": {},
   "source": [
    "Upon examination, some features are recognized automatically as `object`.\n",
    "We did further inspection to determine if the data types are properly assigned.\n",
    "We determined the features that should be encoded as `bool` and convert them accoringly."
   ]
  },
  {
   "cell_type": "code",
   "execution_count": 16,
   "metadata": {},
   "outputs": [],
   "source": [
    "bool_vars = [\n",
    "    \"decubitus-at_the_moment\",\n",
    "    \"bed_mobility-impairment\",\n",
    "    \"bed_mobility-skin_condition\",\n",
    "    \"transfer-impairment\",\n",
    "    \"medical_items\",\n",
    "    \"medical_items-skin_condition_at_item_application\",\n",
    "    \"fall-last_12_month\",\n",
    "    \"fall-while_stay\",\n",
    "    \"fall-while_transfer\",\n",
    "    \"walk-impairment\",\n",
    "    \"excretions-impairment\",\n",
    "    \"cognition-impairment\",\n",
    "    \"psychotropic_or_sedatives_drugs\",\n",
    "    \"diseases\"\n",
    "]\n",
    "\n",
    "df[bool_vars] = df[bool_vars].astype(\"boolean\")"
   ]
  },
  {
   "cell_type": "code",
   "execution_count": 17,
   "metadata": {},
   "outputs": [],
   "source": [
    "# List of boolean/categorical columns that need NaN imputation and dummy encoding\n",
    "columns_to_encode = [\n",
    "    \"fall-while_stay\", \"transfer-impairment\", \"bed_mobility-impairment\",\n",
    "    \"excretions-impairment\", \"cognition-impairment\", \"walk-impairment\",\n",
    "    \"fall-while_transfer\", \"fall-last_12_month\", \"medical_items-skin_condition_at_item_application\",\n",
    "    \"medical_items\", \"bed_mobility-skin_condition\", \"decubitus-at_the_moment\", \"psychotropic_or_sedatives_drugs\", \"diseases\", \"sex\"\n",
    "]\n",
    "\n",
    "# Fill NaNs with \"Unknown\" and convert to categorical type\n",
    "df[columns_to_encode] = df[columns_to_encode].astype(\"object\").fillna(\"Unknown\")\n",
    "\n",
    "# Apply one-hot encoding\n",
    "df = pd.get_dummies(df, columns=columns_to_encode, dtype=int)\n",
    "\n"
   ]
  },
  {
   "cell_type": "markdown",
   "metadata": {},
   "source": [
    "One-hot encoding is used for the following reasons:\n",
    "1. **Machine Learning Compatibility**: Many machine learning algorithms require numerical input. One-hot encoding converts categorical variables into a numerical format that can be used directly by these algorithms.\n",
    "\n",
    "2. **Avoiding Ordinal Assumptions**: Unlike label encoding, one-hot encoding does not impose any ordinal relationship between categories. This is particularly important for non-ordinal categorical variables, where the order of categories does not have any inherent meaning.\n",
    "\n",
    "3. **Handling Missing Data**: By filling missing values with \"Unknown\" and applying one-hot encoding, we ensure that missing data is treated as a separate category. This allows the model to learn patterns associated with missingness, which can sometimes be predictive.\n",
    "\n",
    "4. **Interpretability**: One-hot encoded variables are easier to interpret in terms of their individual contributions to the model, as each category is represented as a separate binary feature.\n",
    "\n",
    "5. **Flexibility**: One-hot encoding works well with a wide range of machine learning models, including tree-based models and linear models, making it a versatile choice for preprocessing categorical data."
   ]
  },
  {
   "cell_type": "markdown",
   "metadata": {},
   "source": [
    "#### 1.2.2 Handle Missing Data in Numerical Variables"
   ]
  },
  {
   "cell_type": "markdown",
   "metadata": {},
   "source": [
    "The only numerical variable with missing data is `fall-how_many_last_12_month`. In out final approach, we just left the variable unimputed because it yielded the best result. We show the other imputation strategies we employed:\n",
    "\n",
    "- **imputation with missingness indicator**\n",
    "\n",
    "- **imputation with hot-deck encoding** \n"
   ]
  },
  {
   "cell_type": "markdown",
   "metadata": {},
   "source": [
    "##### Imputation with Missingness Indicator"
   ]
  },
  {
   "cell_type": "code",
   "execution_count": 18,
   "metadata": {},
   "outputs": [],
   "source": [
    "# Create a missing indicator for \"fall-how_many_last_12_month\"\n",
    "df[\"fall-how_many_last_12_month_missing\"] = df[\"fall-how_many_last_12_month\"].isna()"
   ]
  },
  {
   "cell_type": "markdown",
   "metadata": {},
   "source": [
    "##### Imputation with Hot Deck Encoding"
   ]
  },
  {
   "cell_type": "markdown",
   "metadata": {},
   "source": [
    "Lets look at the distribution of the variable to check if hot-deck imputation makes sense."
   ]
  },
  {
   "cell_type": "code",
   "execution_count": 19,
   "metadata": {},
   "outputs": [
    {
     "data": {
      "image/png": "[encoded data removed]",
      "text/plain": [
       "<Figure size 640x480 with 1 Axes>"
      ]
     },
     "metadata": {},
     "output_type": "display_data"
    }
   ],
   "source": [
    "df_temp = df.copy()\n",
    "plt.hist(df_temp[\"fall-how_many_last_12_month\"], bins=15, edgecolor='black')  # Increase bins for finer granularity\n",
    "plt.xlabel(\"Value\")\n",
    "plt.ylabel(\"Frequency\")\n",
    "plt.title(\"Histogram of ndarray\")\n",
    "plt.show()"
   ]
  },
  {
   "cell_type": "code",
   "execution_count": 20,
   "metadata": {},
   "outputs": [
    {
     "name": "stdout",
     "output_type": "stream",
     "text": [
      "0\n"
     ]
    }
   ],
   "source": [
    "# Step 1: Copy the column to a new column\n",
    "df_temp['fall_scrambled'] = df_temp['fall-how_many_last_12_month'].copy()\n",
    "\n",
    "# Step 2: Remove missing values and randomly shuffle the column\n",
    "non_missing_values = df_temp['fall_scrambled'].dropna().sample(frac=1, random_state=42).values  # Shuffle\n",
    "\n",
    "# Step 3: Replicate values so that there are as many as needed\n",
    "num_missing = df_temp['fall-how_many_last_12_month'].isna().sum()\n",
    "replicated_values = np.tile(non_missing_values, (num_missing // len(non_missing_values) + 1))[:num_missing]\n",
    "\n",
    "# Step 4: Join the scrambled column with the original DataFrame\n",
    "df_temp.loc[df_temp['fall-how_many_last_12_month'].isna(), 'fall-how_many_last_12_month'] = replicated_values\n",
    "\n",
    "# Step 5: Drop the scrambled column (optional)\n",
    "df_temp.drop(columns=['fall_scrambled'], inplace=True)\n",
    "\n",
    "# Check if missing values are imputed\n",
    "print(df_temp['fall-how_many_last_12_month'].isna().sum())  # Should be 0 if all NaNs were filled"
   ]
  },
  {
   "cell_type": "code",
   "execution_count": 21,
   "metadata": {},
   "outputs": [
    {
     "data": {
      "image/png": "[encoded data removed]",
      "text/plain": [
       "<Figure size 640x480 with 1 Axes>"
      ]
     },
     "metadata": {},
     "output_type": "display_data"
    }
   ],
   "source": [
    "# plt.hist(df_temp[\"fall-risk\"], bins=15, edgecolor='black')  # Increase bins for finer granularity\n",
    "# plt.xlabel(\"Value\")\n",
    "# plt.ylabel(\"Frequency\")\n",
    "# plt.title(\"Histogram of ndarray\")\n",
    "# plt.show()\n",
    "\n",
    "df_temp[\"fall-risk\"].value_counts().plot(kind='bar', edgecolor='black')\n",
    "plt.xlabel(\"Fall Risk Category\")\n",
    "plt.ylabel(\"Count\")\n",
    "plt.title(\"Fall Risk Category Distribution\")\n",
    "plt.show()\n"
   ]
  },
  {
   "cell_type": "markdown",
   "metadata": {},
   "source": [
    "As demonstrated, the hot-deck imputation successfully filled the missing values.\n",
    "\n",
    "Both imputation strategies were rigorously evaluated using the pipeline described later in this notebook. However, neither approach resulted in performance improvements. Consequently, the final model is capable of handling missing data. Therefore we move forward without imputing these values. "
   ]
  },
  {
   "cell_type": "markdown",
   "metadata": {},
   "source": [
    "#### 1.2.3 Check Ordinal Variables"
   ]
  },
  {
   "cell_type": "markdown",
   "metadata": {},
   "source": [
    "The variables down below can be imputed with an OrdinalEncoder or with one-hot encoding."
   ]
  },
  {
   "cell_type": "code",
   "execution_count": 22,
   "metadata": {},
   "outputs": [],
   "source": [
    "df_temp[\"transfer\"] = OrdinalEncoder().fit_transform(df_temp[[\"transfer\"]])\n",
    "df_temp[\"bed_mobility-jones\"] = OrdinalEncoder().fit_transform(df_temp[[\"bed_mobility-jones\"]])\n",
    "df_temp[\"decubitus-risk\"] = OrdinalEncoder().fit_transform(df_temp[[\"decubitus-risk\"]])\n",
    "df_temp[\"fall-risk\"] = OrdinalEncoder().fit_transform(df_temp[[\"fall-risk\"]])\n",
    "df_temp[\"walk-jones\"] = OrdinalEncoder().fit_transform(df_temp[[\"walk-jones\"]])"
   ]
  },
  {
   "cell_type": "markdown",
   "metadata": {},
   "source": [
    "Again both approaches were tested and we decided for the one-hot encoding since this approach yielded better results.\n",
    "\n",
    "The reason for this is obvious by looking at the following crosstabs:"
   ]
  },
  {
   "cell_type": "code",
   "execution_count": 23,
   "metadata": {},
   "outputs": [
    {
     "name": "stdout",
     "output_type": "stream",
     "text": [
      "fallen     False  True \n",
      "fall-risk              \n",
      "+           3590     95\n",
      "++           197      0\n",
      "0           8446      0\n"
     ]
    }
   ],
   "source": [
    "ct = pd.crosstab(df['fall-risk'], df['fallen'])\n",
    "print(ct)"
   ]
  },
  {
   "cell_type": "code",
   "execution_count": 24,
   "metadata": {},
   "outputs": [
    {
     "name": "stdout",
     "output_type": "stream",
     "text": [
      "fallen      False  True \n",
      "walk-jones              \n",
      "1             454     31\n",
      "2            3082      3\n",
      "3             475     12\n",
      "4A            233     10\n",
      "4B             70      3\n"
     ]
    }
   ],
   "source": [
    "ct = pd.crosstab(df['walk-jones'], df['fallen'])\n",
    "print(ct)"
   ]
  },
  {
   "cell_type": "markdown",
   "metadata": {},
   "source": [
    "It is obvious from these crosstabs that the variables `fall-risk` and `walk-jones` are actually not ordinal, i.e. higher jones score/risk profile does not lead to more falls."
   ]
  },
  {
   "cell_type": "markdown",
   "metadata": {},
   "source": [
    "##### One-hot Encoding for the Supposedly Ordinal Variables"
   ]
  },
  {
   "cell_type": "code",
   "execution_count": 25,
   "metadata": {},
   "outputs": [],
   "source": [
    "columns_to_encode = [\"transfer\", \"bed_mobility-jones\", \"walk-jones\", \"decubitus-risk\", \"fall-risk\"]\n",
    "\n",
    "# Fill NaNs with \"Unknown\"\n",
    "df[columns_to_encode] = df[columns_to_encode].fillna(\"Unknown\")\n",
    "\n",
    "# Apply one-hot encoding\n",
    "df = pd.get_dummies(df, columns=columns_to_encode)"
   ]
  },
  {
   "cell_type": "code",
   "execution_count": 26,
   "metadata": {},
   "outputs": [
    {
     "data": {
      "text/html": [
       "<div>\n",
       "<style scoped>\n",
       "    .dataframe tbody tr th:only-of-type {\n",
       "        vertical-align: middle;\n",
       "    }\n",
       "\n",
       "    .dataframe tbody tr th {\n",
       "        vertical-align: top;\n",
       "    }\n",
       "\n",
       "    .dataframe thead th {\n",
       "        text-align: right;\n",
       "    }\n",
       "</style>\n",
       "<table border=\"1\" class=\"dataframe\">\n",
       "  <thead>\n",
       "    <tr style=\"text-align: right;\">\n",
       "      <th></th>\n",
       "      <th>fallen</th>\n",
       "      <th>id</th>\n",
       "      <th>age</th>\n",
       "      <th>procedure</th>\n",
       "      <th>diagnosis</th>\n",
       "      <th>medical_items-arm_or_leg_splint</th>\n",
       "      <th>medical_items-plaster_or_neck_brace</th>\n",
       "      <th>medical_items-compression_stocking</th>\n",
       "      <th>medical_items-ventilation_mask</th>\n",
       "      <th>medical_items-O2_glasses</th>\n",
       "      <th>...</th>\n",
       "      <th>walk-jones_4B</th>\n",
       "      <th>walk-jones_Unknown</th>\n",
       "      <th>decubitus-risk_+</th>\n",
       "      <th>decubitus-risk_++</th>\n",
       "      <th>decubitus-risk_0</th>\n",
       "      <th>decubitus-risk_Unknown</th>\n",
       "      <th>fall-risk_+</th>\n",
       "      <th>fall-risk_++</th>\n",
       "      <th>fall-risk_0</th>\n",
       "      <th>fall-risk_Unknown</th>\n",
       "    </tr>\n",
       "  </thead>\n",
       "  <tbody>\n",
       "    <tr>\n",
       "      <th>0</th>\n",
       "      <td>False</td>\n",
       "      <td>179020</td>\n",
       "      <td>39</td>\n",
       "      <td>0</td>\n",
       "      <td>S250</td>\n",
       "      <td>False</td>\n",
       "      <td>False</td>\n",
       "      <td>False</td>\n",
       "      <td>False</td>\n",
       "      <td>False</td>\n",
       "      <td>...</td>\n",
       "      <td>False</td>\n",
       "      <td>False</td>\n",
       "      <td>False</td>\n",
       "      <td>False</td>\n",
       "      <td>False</td>\n",
       "      <td>True</td>\n",
       "      <td>False</td>\n",
       "      <td>False</td>\n",
       "      <td>False</td>\n",
       "      <td>True</td>\n",
       "    </tr>\n",
       "    <tr>\n",
       "      <th>1</th>\n",
       "      <td>False</td>\n",
       "      <td>112009</td>\n",
       "      <td>29</td>\n",
       "      <td>0</td>\n",
       "      <td>M418</td>\n",
       "      <td>False</td>\n",
       "      <td>False</td>\n",
       "      <td>False</td>\n",
       "      <td>False</td>\n",
       "      <td>False</td>\n",
       "      <td>...</td>\n",
       "      <td>False</td>\n",
       "      <td>True</td>\n",
       "      <td>False</td>\n",
       "      <td>False</td>\n",
       "      <td>False</td>\n",
       "      <td>True</td>\n",
       "      <td>False</td>\n",
       "      <td>False</td>\n",
       "      <td>False</td>\n",
       "      <td>True</td>\n",
       "    </tr>\n",
       "    <tr>\n",
       "      <th>2</th>\n",
       "      <td>False</td>\n",
       "      <td>54403</td>\n",
       "      <td>29</td>\n",
       "      <td>9-26</td>\n",
       "      <td>S910</td>\n",
       "      <td>False</td>\n",
       "      <td>False</td>\n",
       "      <td>False</td>\n",
       "      <td>False</td>\n",
       "      <td>False</td>\n",
       "      <td>...</td>\n",
       "      <td>False</td>\n",
       "      <td>True</td>\n",
       "      <td>False</td>\n",
       "      <td>False</td>\n",
       "      <td>False</td>\n",
       "      <td>True</td>\n",
       "      <td>False</td>\n",
       "      <td>False</td>\n",
       "      <td>True</td>\n",
       "      <td>False</td>\n",
       "    </tr>\n",
       "    <tr>\n",
       "      <th>3</th>\n",
       "      <td>False</td>\n",
       "      <td>13054</td>\n",
       "      <td>64</td>\n",
       "      <td>8-77</td>\n",
       "      <td>M400</td>\n",
       "      <td>False</td>\n",
       "      <td>False</td>\n",
       "      <td>False</td>\n",
       "      <td>False</td>\n",
       "      <td>False</td>\n",
       "      <td>...</td>\n",
       "      <td>False</td>\n",
       "      <td>True</td>\n",
       "      <td>False</td>\n",
       "      <td>False</td>\n",
       "      <td>True</td>\n",
       "      <td>False</td>\n",
       "      <td>False</td>\n",
       "      <td>False</td>\n",
       "      <td>True</td>\n",
       "      <td>False</td>\n",
       "    </tr>\n",
       "    <tr>\n",
       "      <th>4</th>\n",
       "      <td>False</td>\n",
       "      <td>45770</td>\n",
       "      <td>89</td>\n",
       "      <td>8-93</td>\n",
       "      <td>K630</td>\n",
       "      <td>False</td>\n",
       "      <td>False</td>\n",
       "      <td>False</td>\n",
       "      <td>False</td>\n",
       "      <td>False</td>\n",
       "      <td>...</td>\n",
       "      <td>False</td>\n",
       "      <td>True</td>\n",
       "      <td>False</td>\n",
       "      <td>False</td>\n",
       "      <td>False</td>\n",
       "      <td>True</td>\n",
       "      <td>False</td>\n",
       "      <td>False</td>\n",
       "      <td>False</td>\n",
       "      <td>True</td>\n",
       "    </tr>\n",
       "  </tbody>\n",
       "</table>\n",
       "<p>5 rows × 93 columns</p>\n",
       "</div>"
      ],
      "text/plain": [
       "   fallen      id  age procedure diagnosis  medical_items-arm_or_leg_splint  \\\n",
       "0   False  179020   39         0      S250                            False   \n",
       "1   False  112009   29         0      M418                            False   \n",
       "2   False   54403   29      9-26      S910                            False   \n",
       "3   False   13054   64      8-77      M400                            False   \n",
       "4   False   45770   89      8-93      K630                            False   \n",
       "\n",
       "   medical_items-plaster_or_neck_brace  medical_items-compression_stocking  \\\n",
       "0                                False                               False   \n",
       "1                                False                               False   \n",
       "2                                False                               False   \n",
       "3                                False                               False   \n",
       "4                                False                               False   \n",
       "\n",
       "   medical_items-ventilation_mask  medical_items-O2_glasses  ...  \\\n",
       "0                           False                     False  ...   \n",
       "1                           False                     False  ...   \n",
       "2                           False                     False  ...   \n",
       "3                           False                     False  ...   \n",
       "4                           False                     False  ...   \n",
       "\n",
       "   walk-jones_4B  walk-jones_Unknown  decubitus-risk_+  decubitus-risk_++  \\\n",
       "0          False               False             False              False   \n",
       "1          False                True             False              False   \n",
       "2          False                True             False              False   \n",
       "3          False                True             False              False   \n",
       "4          False                True             False              False   \n",
       "\n",
       "   decubitus-risk_0  decubitus-risk_Unknown  fall-risk_+  fall-risk_++  \\\n",
       "0             False                    True        False         False   \n",
       "1             False                    True        False         False   \n",
       "2             False                    True        False         False   \n",
       "3              True                   False        False         False   \n",
       "4             False                    True        False         False   \n",
       "\n",
       "   fall-risk_0  fall-risk_Unknown  \n",
       "0        False               True  \n",
       "1        False               True  \n",
       "2         True              False  \n",
       "3         True              False  \n",
       "4        False               True  \n",
       "\n",
       "[5 rows x 93 columns]"
      ]
     },
     "execution_count": 26,
     "metadata": {},
     "output_type": "execute_result"
    }
   ],
   "source": [
    "df.head()"
   ]
  },
  {
   "cell_type": "markdown",
   "metadata": {},
   "source": [
    "#### 1.2.4 Handle Procedure and Diagnosis Columns"
   ]
  },
  {
   "cell_type": "markdown",
   "metadata": {},
   "source": [
    "**Note on Categorical Columns: ICD-10 and OPS Codes:**\n",
    "\n",
    "We carefully considered how to handle the `ICD-10` and `OPS` code columns. One-hot encoding these features would result in a dataset with extremely high dimensionality, which is not practical. Even applying dimensionality reduction techniques would likely be ineffective due to the sparsity and complexity of these codes.\n",
    "\n",
    "Instead, we chose to bin both columns. This approach is appropriate because both `ICD-10` and `OPS` codes are structured hierarchically:\n",
    "\n",
    " - The first letter (`ICD-10`) or the first digit (`OPS`) typically represents a broad medical category.\n",
    "\n",
    " - The remaining characters provide more specific details, which are often too granular to add meaningful value for modeling.\n",
    "\n",
    "By focusing on these broader categories, we retain the most informative aspects of the codes while keeping the feature space manageable.\n",
    "\n",
    "For example `ICD-10` code `6` gives infromation on whether the patient received medication, a very interesting column to look at."
   ]
  },
  {
   "cell_type": "code",
   "execution_count": 56,
   "metadata": {},
   "outputs": [],
   "source": [
    "df[\"procedure_category\"] = df[\"procedure\"].apply(lambda x: x if x == \"0\" else x.split(\"-\")[0])\n",
    "df_dummies = pd.get_dummies(df[\"procedure_category\"], prefix=\"procedure_category\")\n",
    "# # Combine with the original DataFrame\n",
    "df = pd.concat([df, df_dummies], axis=1)"
   ]
  },
  {
   "cell_type": "code",
   "execution_count": 28,
   "metadata": {},
   "outputs": [],
   "source": [
    "# Extract the first letter (ICD-10 chapter)\n",
    "df[\"ICD10_category\"] = df[\"diagnosis\"].str[0]\n",
    "# One-hot encode the categories\n",
    "df_dummies = pd.get_dummies(df[\"ICD10_category\"], prefix=\"ICD10\")\n",
    "# Combine with the original DataFrame\n",
    "df = pd.concat([df, df_dummies], axis=1)"
   ]
  },
  {
   "cell_type": "code",
   "execution_count": 29,
   "metadata": {},
   "outputs": [
    {
     "data": {
      "text/html": [
       "<div>\n",
       "<style scoped>\n",
       "    .dataframe tbody tr th:only-of-type {\n",
       "        vertical-align: middle;\n",
       "    }\n",
       "\n",
       "    .dataframe tbody tr th {\n",
       "        vertical-align: top;\n",
       "    }\n",
       "\n",
       "    .dataframe thead th {\n",
       "        text-align: right;\n",
       "    }\n",
       "</style>\n",
       "<table border=\"1\" class=\"dataframe\">\n",
       "  <thead>\n",
       "    <tr style=\"text-align: right;\">\n",
       "      <th></th>\n",
       "      <th>fallen</th>\n",
       "      <th>id</th>\n",
       "      <th>age</th>\n",
       "      <th>procedure</th>\n",
       "      <th>diagnosis</th>\n",
       "      <th>medical_items-arm_or_leg_splint</th>\n",
       "      <th>medical_items-plaster_or_neck_brace</th>\n",
       "      <th>medical_items-compression_stocking</th>\n",
       "      <th>medical_items-ventilation_mask</th>\n",
       "      <th>medical_items-O2_glasses</th>\n",
       "      <th>...</th>\n",
       "      <th>ICD10_Q</th>\n",
       "      <th>ICD10_R</th>\n",
       "      <th>ICD10_S</th>\n",
       "      <th>ICD10_T</th>\n",
       "      <th>ICD10_U</th>\n",
       "      <th>ICD10_V</th>\n",
       "      <th>ICD10_W</th>\n",
       "      <th>ICD10_X</th>\n",
       "      <th>ICD10_Y</th>\n",
       "      <th>ICD10_Z</th>\n",
       "    </tr>\n",
       "  </thead>\n",
       "  <tbody>\n",
       "    <tr>\n",
       "      <th>0</th>\n",
       "      <td>False</td>\n",
       "      <td>179020</td>\n",
       "      <td>39</td>\n",
       "      <td>0</td>\n",
       "      <td>S250</td>\n",
       "      <td>False</td>\n",
       "      <td>False</td>\n",
       "      <td>False</td>\n",
       "      <td>False</td>\n",
       "      <td>False</td>\n",
       "      <td>...</td>\n",
       "      <td>False</td>\n",
       "      <td>False</td>\n",
       "      <td>True</td>\n",
       "      <td>False</td>\n",
       "      <td>False</td>\n",
       "      <td>False</td>\n",
       "      <td>False</td>\n",
       "      <td>False</td>\n",
       "      <td>False</td>\n",
       "      <td>False</td>\n",
       "    </tr>\n",
       "    <tr>\n",
       "      <th>1</th>\n",
       "      <td>False</td>\n",
       "      <td>112009</td>\n",
       "      <td>29</td>\n",
       "      <td>0</td>\n",
       "      <td>M418</td>\n",
       "      <td>False</td>\n",
       "      <td>False</td>\n",
       "      <td>False</td>\n",
       "      <td>False</td>\n",
       "      <td>False</td>\n",
       "      <td>...</td>\n",
       "      <td>False</td>\n",
       "      <td>False</td>\n",
       "      <td>False</td>\n",
       "      <td>False</td>\n",
       "      <td>False</td>\n",
       "      <td>False</td>\n",
       "      <td>False</td>\n",
       "      <td>False</td>\n",
       "      <td>False</td>\n",
       "      <td>False</td>\n",
       "    </tr>\n",
       "    <tr>\n",
       "      <th>2</th>\n",
       "      <td>False</td>\n",
       "      <td>54403</td>\n",
       "      <td>29</td>\n",
       "      <td>9-26</td>\n",
       "      <td>S910</td>\n",
       "      <td>False</td>\n",
       "      <td>False</td>\n",
       "      <td>False</td>\n",
       "      <td>False</td>\n",
       "      <td>False</td>\n",
       "      <td>...</td>\n",
       "      <td>False</td>\n",
       "      <td>False</td>\n",
       "      <td>True</td>\n",
       "      <td>False</td>\n",
       "      <td>False</td>\n",
       "      <td>False</td>\n",
       "      <td>False</td>\n",
       "      <td>False</td>\n",
       "      <td>False</td>\n",
       "      <td>False</td>\n",
       "    </tr>\n",
       "    <tr>\n",
       "      <th>3</th>\n",
       "      <td>False</td>\n",
       "      <td>13054</td>\n",
       "      <td>64</td>\n",
       "      <td>8-77</td>\n",
       "      <td>M400</td>\n",
       "      <td>False</td>\n",
       "      <td>False</td>\n",
       "      <td>False</td>\n",
       "      <td>False</td>\n",
       "      <td>False</td>\n",
       "      <td>...</td>\n",
       "      <td>False</td>\n",
       "      <td>False</td>\n",
       "      <td>False</td>\n",
       "      <td>False</td>\n",
       "      <td>False</td>\n",
       "      <td>False</td>\n",
       "      <td>False</td>\n",
       "      <td>False</td>\n",
       "      <td>False</td>\n",
       "      <td>False</td>\n",
       "    </tr>\n",
       "    <tr>\n",
       "      <th>4</th>\n",
       "      <td>False</td>\n",
       "      <td>45770</td>\n",
       "      <td>89</td>\n",
       "      <td>8-93</td>\n",
       "      <td>K630</td>\n",
       "      <td>False</td>\n",
       "      <td>False</td>\n",
       "      <td>False</td>\n",
       "      <td>False</td>\n",
       "      <td>False</td>\n",
       "      <td>...</td>\n",
       "      <td>False</td>\n",
       "      <td>False</td>\n",
       "      <td>False</td>\n",
       "      <td>False</td>\n",
       "      <td>False</td>\n",
       "      <td>False</td>\n",
       "      <td>False</td>\n",
       "      <td>False</td>\n",
       "      <td>False</td>\n",
       "      <td>False</td>\n",
       "    </tr>\n",
       "  </tbody>\n",
       "</table>\n",
       "<p>5 rows × 128 columns</p>\n",
       "</div>"
      ],
      "text/plain": [
       "   fallen      id  age procedure diagnosis  medical_items-arm_or_leg_splint  \\\n",
       "0   False  179020   39         0      S250                            False   \n",
       "1   False  112009   29         0      M418                            False   \n",
       "2   False   54403   29      9-26      S910                            False   \n",
       "3   False   13054   64      8-77      M400                            False   \n",
       "4   False   45770   89      8-93      K630                            False   \n",
       "\n",
       "   medical_items-plaster_or_neck_brace  medical_items-compression_stocking  \\\n",
       "0                                False                               False   \n",
       "1                                False                               False   \n",
       "2                                False                               False   \n",
       "3                                False                               False   \n",
       "4                                False                               False   \n",
       "\n",
       "   medical_items-ventilation_mask  medical_items-O2_glasses  ...  ICD10_Q  \\\n",
       "0                           False                     False  ...    False   \n",
       "1                           False                     False  ...    False   \n",
       "2                           False                     False  ...    False   \n",
       "3                           False                     False  ...    False   \n",
       "4                           False                     False  ...    False   \n",
       "\n",
       "   ICD10_R  ICD10_S  ICD10_T  ICD10_U  ICD10_V  ICD10_W  ICD10_X  ICD10_Y  \\\n",
       "0    False     True    False    False    False    False    False    False   \n",
       "1    False    False    False    False    False    False    False    False   \n",
       "2    False     True    False    False    False    False    False    False   \n",
       "3    False    False    False    False    False    False    False    False   \n",
       "4    False    False    False    False    False    False    False    False   \n",
       "\n",
       "   ICD10_Z  \n",
       "0    False  \n",
       "1    False  \n",
       "2    False  \n",
       "3    False  \n",
       "4    False  \n",
       "\n",
       "[5 rows x 128 columns]"
      ]
     },
     "execution_count": 29,
     "metadata": {},
     "output_type": "execute_result"
    }
   ],
   "source": [
    "df.head()"
   ]
  },
  {
   "cell_type": "markdown",
   "metadata": {
    "vscode": {
     "languageId": "plaintext"
    }
   },
   "source": [
    "**Notes**: \n",
    "- Ranking the probability of patient's fall (e.g. high risk, etc.) might be enough instead of assigning individual patient's fall/non-fall value.\n",
    "- Missing nursing data is not MCAR -> Dummy variables for unknown values might be a good predictors."
   ]
  },
  {
   "cell_type": "markdown",
   "metadata": {},
   "source": [
    "### 1.3 Outlier detection"
   ]
  },
  {
   "cell_type": "code",
   "execution_count": 30,
   "metadata": {},
   "outputs": [],
   "source": [
    "numerical_vars = [\"age\", \"fall-how_many_last_12_month\"]"
   ]
  },
  {
   "cell_type": "code",
   "execution_count": 31,
   "metadata": {},
   "outputs": [
    {
     "name": "stdout",
     "output_type": "stream",
     "text": [
      "Tukey Outliers Count:\n",
      "fall-how_many_last_12_month    278\n",
      "age                              0\n",
      "dtype: int64\n"
     ]
    }
   ],
   "source": [
    "def tukey_outliers(series):\n",
    "    Q1 = series.quantile(0.25)\n",
    "    Q3 = series.quantile(0.75)\n",
    "    IQR = Q3 - Q1\n",
    "    lower = Q1 - 1.5 * IQR\n",
    "    upper = Q3 + 1.5 * IQR\n",
    "    return (series < lower) | (series > upper)\n",
    "\n",
    "# Example for all numerical vars:\n",
    "outlier_flags_tukey = pd.DataFrame()\n",
    "for col in numerical_vars:\n",
    "    outlier_flags_tukey[col] = tukey_outliers(df[col])\n",
    "\n",
    "# Summary\n",
    "print(\"Tukey Outliers Count:\")\n",
    "print(outlier_flags_tukey.sum().sort_values(ascending=False))"
   ]
  },
  {
   "cell_type": "code",
   "execution_count": 32,
   "metadata": {},
   "outputs": [
    {
     "data": {
      "text/plain": [
       "fall-how_many_last_12_month\n",
       "1.000000    1122\n",
       "5.000000     249\n",
       "3.000000      11\n",
       "2.000000       3\n",
       "3.392226       1\n",
       "2.748724       1\n",
       "4.931584       1\n",
       "3.100813       1\n",
       "3.871862       1\n",
       "3.659762       1\n",
       "2.981188       1\n",
       "1.257659       1\n",
       "3.241220       1\n",
       "4.396037       1\n",
       "4.096168       1\n",
       "2.013521       1\n",
       "2.202339       1\n",
       "4.453497       1\n",
       "4.175363       1\n",
       "Name: count, dtype: int64"
      ]
     },
     "execution_count": 32,
     "metadata": {},
     "output_type": "execute_result"
    }
   ],
   "source": [
    "df[\"fall-how_many_last_12_month\"].value_counts()"
   ]
  },
  {
   "cell_type": "markdown",
   "metadata": {},
   "source": [
    "**Note on Outliers in fall-how_many_last_12_month:**\n",
    "\n",
    "Although the Tukey fence method flagged outliers in the `fall-how_many_last_12_month` variable, manual inspection suggests that all values are in fact reasonable and valid."
   ]
  },
  {
   "cell_type": "markdown",
   "metadata": {},
   "source": [
    "### 1.4 Partitioning"
   ]
  },
  {
   "cell_type": "markdown",
   "metadata": {},
   "source": [
    "**Data Splitting Strategy: Training / Test / Validation:**\n",
    "\n",
    "We split the data into three distinct sets: training, test, and validation.\n",
    " - The training set is used to train the model.\n",
    "\n",
    " - The test set is used throughout development for model evaluation and hyperparameter tuning.\n",
    "\n",
    " - The validation set is kept completely untouched and is reserved for final evaluation only.\n",
    "\n",
    "This approach helps prevent data leakage and ensures that the final performance metrics reflect how the model would perform on truly unseen data. By not using the validation set during model development, we reduce the risk of overfitting to the test set through repeated tuning and selection."
   ]
  },
  {
   "cell_type": "code",
   "execution_count": 57,
   "metadata": {},
   "outputs": [],
   "source": [
    "# Split into train (80%) and test (20%)\n",
    "df, val_df = train_test_split(df, test_size=0.1, stratify=df[\"fallen\"], random_state=42)"
   ]
  },
  {
   "cell_type": "markdown",
   "metadata": {},
   "source": [
    "# Section 2: Data Exploration and Relationships"
   ]
  },
  {
   "cell_type": "markdown",
   "metadata": {},
   "source": [
    "### 2.1 Analyze Correlation"
   ]
  },
  {
   "cell_type": "markdown",
   "metadata": {},
   "source": [
    "We are going to compute the numerical variables with pearson correlation."
   ]
  },
  {
   "cell_type": "code",
   "execution_count": 34,
   "metadata": {},
   "outputs": [
    {
     "data": {
      "text/plain": [
       "0.06165066620933579"
      ]
     },
     "execution_count": 34,
     "metadata": {},
     "output_type": "execute_result"
    }
   ],
   "source": [
    "df['age'].corr(df['fallen'], method='pearson')"
   ]
  },
  {
   "cell_type": "code",
   "execution_count": 35,
   "metadata": {},
   "outputs": [
    {
     "data": {
      "text/plain": [
       "0.21530210766180033"
      ]
     },
     "execution_count": 35,
     "metadata": {},
     "output_type": "execute_result"
    }
   ],
   "source": [
    "df['fall-how_many_last_12_month'].corr(df['fallen'], method='pearson')"
   ]
  },
  {
   "cell_type": "markdown",
   "metadata": {},
   "source": [
    "#### 2.1.1 Computing Binary Variables with Phi-Coefficient correlation"
   ]
  },
  {
   "cell_type": "code",
   "execution_count": 36,
   "metadata": {},
   "outputs": [],
   "source": [
    "def phi_coefficient(df, var, target=\"fallen\"):\n",
    "    contingency_table = pd.crosstab(df[var], df[target])\n",
    "    chi2, _, _, _ = chi2_contingency(contingency_table)\n",
    "    n = df.shape[0]\n",
    "    return np.sqrt(chi2 / n)\n",
    "\n",
    "binary_vars = [col for col in df.columns if df[col].nunique() == 2]  # Identify binary columns\n",
    "phi_corrs = {var: phi_coefficient(df, var) for var in binary_vars}\n",
    "\n",
    "# Sort by absolute correlation value\n",
    "sorted_phi_corrs = sorted(phi_corrs.items(), key=lambda x: abs(x[1]), reverse=True)"
   ]
  },
  {
   "cell_type": "code",
   "execution_count": 37,
   "metadata": {},
   "outputs": [
    {
     "name": "stdout",
     "output_type": "stream",
     "text": [
      "[('fallen', 0.9941721243642759), ('fall-while_stay_True', 0.2634207297731874), ('walk-balance_and_gait_impaired', 0.25508629573547126), ('excretions-incontinence', 0.16657173589736549), ('walk-impairment_True', 0.16403105082306563), ('fall-while_transfer_True', 0.16000152185274139), ('transfer-impairment_True', 0.15392370855740098), ('fall-risk_+', 0.1528247063196303), ('excretions-impairment_True', 0.14948255943037683), ('walk-jones_1', 0.14407380901396077), ('cognition-impairment_True', 0.13988325724877987), ('bed_mobility-impairment_True', 0.13288755740844155), ('cognition-agitated', 0.11322515242741778), ('fall-last_12_month_True', 0.1068224280522789), ('walking_aid', 0.09615616085690859), ('decubitus-risk_+', 0.09507166412594281), ('cognition-disoriented_time', 0.08118758623510328), ('walk-jones_Unknown', 0.08043428269262108), ('walk-impairment_Unknown', 0.07355083386598443), ('fall-risk_Unknown', 0.07279009629345312)]\n"
     ]
    }
   ],
   "source": [
    "print(sorted_phi_corrs[:20])"
   ]
  },
  {
   "cell_type": "markdown",
   "metadata": {},
   "source": [
    "#### 2.1.2 Visualizations"
   ]
  },
  {
   "cell_type": "markdown",
   "metadata": {},
   "source": [
    "Computing corelation between very sparse already inputed features can lead to missleading results. It is therefore useful to also take a look at some visualizations."
   ]
  },
  {
   "cell_type": "code",
   "execution_count": 58,
   "metadata": {},
   "outputs": [
    {
     "name": "stderr",
     "output_type": "stream",
     "text": [
      "/var/folders/1p/567_4j5x29v48vc1mvjyth400000gp/T/ipykernel_50653/1886993880.py:2: FutureWarning: \n",
      "\n",
      "Passing `palette` without assigning `hue` is deprecated and will be removed in v0.14.0. Assign the `x` variable to `hue` and set `legend=False` for the same effect.\n",
      "\n",
      "  sns.boxplot(x=df[\"fallen\"], y=df[\"age\"], palette=\"coolwarm\")\n"
     ]
    },
    {
     "data": {
      "image/png": "[encoded data removed]",
      "text/plain": [
       "<Figure size 800x600 with 1 Axes>"
      ]
     },
     "metadata": {},
     "output_type": "display_data"
    }
   ],
   "source": [
    "plt.figure(figsize=(8, 6))\n",
    "sns.boxplot(x=df[\"fallen\"], y=df[\"age\"], palette=\"coolwarm\")\n",
    "plt.xlabel(\"Fallen (0 = No, 1 = Yes)\")\n",
    "plt.ylabel(\"Age\")\n",
    "plt.title(\"Age Distribution by Fall Status\")\n",
    "plt.show()\n"
   ]
  },
  {
   "cell_type": "markdown",
   "metadata": {},
   "source": [
    "**Observation:**\n",
    "\n",
    "Here we can see, that the variable `age` seems to have a significant of impact on `fallen`."
   ]
  },
  {
   "cell_type": "code",
   "execution_count": 39,
   "metadata": {},
   "outputs": [
    {
     "name": "stderr",
     "output_type": "stream",
     "text": [
      "/var/folders/1p/567_4j5x29v48vc1mvjyth400000gp/T/ipykernel_50653/97186582.py:8: FutureWarning: The default of observed=False is deprecated and will be changed to True in a future version of pandas. Pass observed=False to retain current behavior or observed=True to adopt the future default and silence this warning.\n",
      "  age_counts = df_viz.groupby('age_group')['fall-risk_+'].value_counts().unstack()\n"
     ]
    },
    {
     "data": {
      "image/png": "[encoded data removed]",
      "text/plain": [
       "<Figure size 800x500 with 1 Axes>"
      ]
     },
     "metadata": {},
     "output_type": "display_data"
    }
   ],
   "source": [
    "df_viz = df.copy()\n",
    "\n",
    "# Define age bins\n",
    "age_bins = range(18, 110, 5)  # 18-27, 28-37, ..., 78-84\n",
    "df_viz['age_group'] = pd.cut(df_viz['age'], bins=age_bins, right=False)\n",
    "\n",
    "# Count occurrences of 0 and 1 per age group\n",
    "age_counts = df_viz.groupby('age_group')['fall-risk_+'].value_counts().unstack()\n",
    "\n",
    "# Normalize to percentages\n",
    "age_percent = age_counts.div(age_counts.sum(axis=1), axis=0) * 100\n",
    "\n",
    "# Plot\n",
    "fig, ax = plt.subplots(figsize=(8, 5))\n",
    "age_percent.plot(kind='bar', stacked=True, color=['#1f77b4', '#ff7f0e'], ax=ax)\n",
    "\n",
    "# Labels and customization\n",
    "plt.xlabel(\"Age Group\")\n",
    "plt.ylabel(\"Percentage\")\n",
    "plt.title(\"Distribution of Age with fall-risk_+\")\n",
    "plt.legend([\"0\", \"1\"], title=\"Binary Variable\")\n",
    "plt.xticks(rotation=45)\n",
    "plt.ylim(0, 100)\n",
    "\n",
    "plt.show()"
   ]
  },
  {
   "cell_type": "markdown",
   "metadata": {},
   "source": [
    "**Observation:**\n",
    "\n",
    "`age` and `fall_risk_+` are highly correlated. This relationship is better illustrated visually, as calculating a correlation score between a continuous and a binary variable — especially when the data is skewed — can be misleading."
   ]
  },
  {
   "cell_type": "code",
   "execution_count": 40,
   "metadata": {},
   "outputs": [
    {
     "name": "stderr",
     "output_type": "stream",
     "text": [
      "/var/folders/1p/567_4j5x29v48vc1mvjyth400000gp/T/ipykernel_50653/2492159077.py:8: FutureWarning: The default of observed=False is deprecated and will be changed to True in a future version of pandas. Pass observed=False to retain current behavior or observed=True to adopt the future default and silence this warning.\n",
      "  age_counts = df_viz.groupby('age_group')['walk-balance_and_gait_impaired'].value_counts().unstack()\n"
     ]
    },
    {
     "data": {
      "image/png": "[encoded data removed]",
      "text/plain": [
       "<Figure size 800x500 with 1 Axes>"
      ]
     },
     "metadata": {},
     "output_type": "display_data"
    }
   ],
   "source": [
    "df_viz = df.copy()\n",
    "\n",
    "# Define age bins\n",
    "age_bins = range(18, 110, 5)  # 18-27, 28-37, ..., 78-84\n",
    "df_viz['age_group'] = pd.cut(df_viz['age'], bins=age_bins, right=False)\n",
    "\n",
    "# Count occurrences of 0 and 1 per age group\n",
    "age_counts = df_viz.groupby('age_group')['walk-balance_and_gait_impaired'].value_counts().unstack()\n",
    "\n",
    "# Normalize to percentages\n",
    "age_percent = age_counts.div(age_counts.sum(axis=1), axis=0) * 100\n",
    "\n",
    "# Plot\n",
    "fig, ax = plt.subplots(figsize=(8, 5))\n",
    "age_percent.plot(kind='bar', stacked=True, color=['#1f77b4', '#ff7f0e'], ax=ax)\n",
    "\n",
    "# Labels and customization\n",
    "plt.xlabel(\"Age Group\")\n",
    "plt.ylabel(\"Percentage\")\n",
    "plt.title(\"Distribution of Age with walk-balance_and_gait_impaired\")\n",
    "plt.legend([\"0\", \"1\"], title=\"Binary Variable\")\n",
    "plt.xticks(rotation=45)\n",
    "plt.ylim(0, 100)\n",
    "\n",
    "plt.show()"
   ]
  },
  {
   "cell_type": "markdown",
   "metadata": {},
   "source": [
    "**Observation:**\n",
    "\n",
    "Increasing `age` is also correlated with a higher likelihood of `walk-balance_and_gait_impaired`, one of the strongest predictors of patient falls."
   ]
  },
  {
   "cell_type": "markdown",
   "metadata": {},
   "source": [
    "Other visualizations with less meaningful variables are left-out. "
   ]
  },
  {
   "cell_type": "code",
   "execution_count": 41,
   "metadata": {},
   "outputs": [],
   "source": [
    "df_backup = df.copy()"
   ]
  },
  {
   "cell_type": "code",
   "execution_count": 42,
   "metadata": {},
   "outputs": [],
   "source": [
    "binary_vars.remove(\"fallen\")"
   ]
  },
  {
   "cell_type": "code",
   "execution_count": 43,
   "metadata": {},
   "outputs": [
    {
     "name": "stdout",
     "output_type": "stream",
     "text": [
      "['medical_items-arm_or_leg_splint', 'medical_items-plaster_or_neck_brace', 'medical_items-compression_stocking', 'medical_items-ventilation_mask', 'medical_items-O2_glasses', 'medical_items-orthesis', 'medical_items-prosthesis', 'walk-balance_and_gait_impaired', 'walking_aid', 'excretions-incontinence', 'excretions-nykturie', 'cognition-disoriented_time', 'cognition-disoriented_location', 'cognition-disoriented_own_person', 'cognition-agitated', 'cognition-confused', 'fall-while_stay_False', 'fall-while_stay_True', 'fall-while_stay_Unknown', 'transfer-impairment_False', 'transfer-impairment_True', 'transfer-impairment_Unknown', 'bed_mobility-impairment_False', 'bed_mobility-impairment_True', 'bed_mobility-impairment_Unknown', 'excretions-impairment_False', 'excretions-impairment_True', 'excretions-impairment_Unknown', 'cognition-impairment_False', 'cognition-impairment_True', 'cognition-impairment_Unknown', 'walk-impairment_False', 'walk-impairment_True', 'walk-impairment_Unknown', 'fall-while_transfer_False', 'fall-while_transfer_True', 'fall-while_transfer_Unknown', 'fall-last_12_month_False', 'fall-last_12_month_True', 'fall-last_12_month_Unknown', 'medical_items-skin_condition_at_item_application_False', 'medical_items-skin_condition_at_item_application_True', 'medical_items-skin_condition_at_item_application_Unknown', 'medical_items_False', 'medical_items_True', 'medical_items_Unknown', 'bed_mobility-skin_condition_False', 'bed_mobility-skin_condition_True', 'bed_mobility-skin_condition_Unknown', 'decubitus-at_the_moment_False', 'decubitus-at_the_moment_True', 'decubitus-at_the_moment_Unknown', 'psychotropic_or_sedatives_drugs_False', 'psychotropic_or_sedatives_drugs_True', 'psychotropic_or_sedatives_drugs_Unknown', 'diseases_False', 'diseases_True', 'diseases_Unknown', 'sex_female', 'sex_male', 'fall-how_many_last_12_month_missing', 'transfer_1', 'transfer_2', 'transfer_3', 'transfer_4A', 'transfer_4B', 'transfer_Unknown', 'bed_mobility-jones_1', 'bed_mobility-jones_2', 'bed_mobility-jones_3', 'bed_mobility-jones_4A', 'bed_mobility-jones_4B', 'bed_mobility-jones_Unknown', 'walk-jones_1', 'walk-jones_2', 'walk-jones_3', 'walk-jones_4A', 'walk-jones_4B', 'walk-jones_Unknown', 'decubitus-risk_+', 'decubitus-risk_++', 'decubitus-risk_0', 'decubitus-risk_Unknown', 'fall-risk_+', 'fall-risk_++', 'fall-risk_0', 'fall-risk_Unknown', 'procedure_category_0', 'procedure_category_1', 'procedure_category_3', 'procedure_category_5', 'procedure_category_6', 'procedure_category_8', 'procedure_category_9', 'ICD10_0', 'ICD10_A', 'ICD10_B', 'ICD10_C', 'ICD10_D', 'ICD10_E', 'ICD10_F', 'ICD10_G', 'ICD10_H', 'ICD10_I', 'ICD10_J', 'ICD10_K', 'ICD10_L', 'ICD10_M', 'ICD10_N', 'ICD10_O', 'ICD10_Q', 'ICD10_R', 'ICD10_S', 'ICD10_T', 'ICD10_U', 'ICD10_V', 'ICD10_W', 'ICD10_X', 'ICD10_Y', 'ICD10_Z']\n"
     ]
    }
   ],
   "source": [
    "print(binary_vars)"
   ]
  },
  {
   "cell_type": "markdown",
   "metadata": {},
   "source": [
    "### 2.2 Feature Engineering Through MCA"
   ]
  },
  {
   "cell_type": "markdown",
   "metadata": {},
   "source": [
    "`MCA` (Multiple Correspondence Analysis) is used for binary variables because it is a dimensionality reduction technique specifically designed for categorical data. It helps to uncover patterns and relationships between binary variables by projecting them into a lower-dimensional space, by transforming the binary variables into principal components.\n",
    "\n",
    "\n",
    "This is particularly useful when dealing with a large number of binary features, as it reduces complexity while retaining the most important information."
   ]
  },
  {
   "cell_type": "code",
   "execution_count": 59,
   "metadata": {},
   "outputs": [],
   "source": [
    "# Subset the dataframe to only binary variables\n",
    "df_mca = df[binary_vars]\n",
    "\n",
    "# Perform MCA\n",
    "mca = prince.MCA(n_components=3, random_state=42)\n",
    "mca = mca.fit(df_mca)\n",
    "\n",
    "# Transform data to get the new MCs\n",
    "df_mcs = mca.transform(df_mca)\n",
    "df_mcs.columns = [\"MC1\", \"MC2\", \"MC3\"]  # Naming first three MCs"
   ]
  },
  {
   "cell_type": "code",
   "execution_count": 45,
   "metadata": {},
   "outputs": [
    {
     "data": {
      "text/html": [
       "<div>\n",
       "<style scoped>\n",
       "    .dataframe tbody tr th:only-of-type {\n",
       "        vertical-align: middle;\n",
       "    }\n",
       "\n",
       "    .dataframe tbody tr th {\n",
       "        vertical-align: top;\n",
       "    }\n",
       "\n",
       "    .dataframe thead th {\n",
       "        text-align: right;\n",
       "    }\n",
       "</style>\n",
       "<table border=\"1\" class=\"dataframe\">\n",
       "  <thead>\n",
       "    <tr style=\"text-align: right;\">\n",
       "      <th></th>\n",
       "      <th>MC1</th>\n",
       "      <th>MC2</th>\n",
       "      <th>MC3</th>\n",
       "    </tr>\n",
       "  </thead>\n",
       "  <tbody>\n",
       "    <tr>\n",
       "      <th>6690</th>\n",
       "      <td>-0.102536</td>\n",
       "      <td>0.028374</td>\n",
       "      <td>0.095790</td>\n",
       "    </tr>\n",
       "    <tr>\n",
       "      <th>35722</th>\n",
       "      <td>-0.090733</td>\n",
       "      <td>0.015647</td>\n",
       "      <td>0.007766</td>\n",
       "    </tr>\n",
       "    <tr>\n",
       "      <th>32809</th>\n",
       "      <td>-0.100118</td>\n",
       "      <td>0.039659</td>\n",
       "      <td>0.114347</td>\n",
       "    </tr>\n",
       "    <tr>\n",
       "      <th>10660</th>\n",
       "      <td>-0.107061</td>\n",
       "      <td>0.040593</td>\n",
       "      <td>-0.123145</td>\n",
       "    </tr>\n",
       "    <tr>\n",
       "      <th>33450</th>\n",
       "      <td>-0.060118</td>\n",
       "      <td>0.000139</td>\n",
       "      <td>-0.108222</td>\n",
       "    </tr>\n",
       "    <tr>\n",
       "      <th>...</th>\n",
       "      <td>...</td>\n",
       "      <td>...</td>\n",
       "      <td>...</td>\n",
       "    </tr>\n",
       "    <tr>\n",
       "      <th>8241</th>\n",
       "      <td>-0.061935</td>\n",
       "      <td>0.075681</td>\n",
       "      <td>0.092644</td>\n",
       "    </tr>\n",
       "    <tr>\n",
       "      <th>33347</th>\n",
       "      <td>-0.117054</td>\n",
       "      <td>0.039548</td>\n",
       "      <td>0.040268</td>\n",
       "    </tr>\n",
       "    <tr>\n",
       "      <th>16947</th>\n",
       "      <td>-0.048734</td>\n",
       "      <td>0.022757</td>\n",
       "      <td>-0.011233</td>\n",
       "    </tr>\n",
       "    <tr>\n",
       "      <th>7614</th>\n",
       "      <td>-0.070468</td>\n",
       "      <td>0.020919</td>\n",
       "      <td>-0.030002</td>\n",
       "    </tr>\n",
       "    <tr>\n",
       "      <th>32409</th>\n",
       "      <td>-0.091327</td>\n",
       "      <td>0.008555</td>\n",
       "      <td>0.062227</td>\n",
       "    </tr>\n",
       "  </tbody>\n",
       "</table>\n",
       "<p>36000 rows × 3 columns</p>\n",
       "</div>"
      ],
      "text/plain": [
       "            MC1       MC2       MC3\n",
       "6690  -0.102536  0.028374  0.095790\n",
       "35722 -0.090733  0.015647  0.007766\n",
       "32809 -0.100118  0.039659  0.114347\n",
       "10660 -0.107061  0.040593 -0.123145\n",
       "33450 -0.060118  0.000139 -0.108222\n",
       "...         ...       ...       ...\n",
       "8241  -0.061935  0.075681  0.092644\n",
       "33347 -0.117054  0.039548  0.040268\n",
       "16947 -0.048734  0.022757 -0.011233\n",
       "7614  -0.070468  0.020919 -0.030002\n",
       "32409 -0.091327  0.008555  0.062227\n",
       "\n",
       "[36000 rows x 3 columns]"
      ]
     },
     "execution_count": 45,
     "metadata": {},
     "output_type": "execute_result"
    }
   ],
   "source": [
    "df_mcs"
   ]
  },
  {
   "cell_type": "code",
   "execution_count": 46,
   "metadata": {},
   "outputs": [
    {
     "data": {
      "image/png": "[encoded data removed]",
      "text/plain": [
       "<Figure size 800x600 with 2 Axes>"
      ]
     },
     "metadata": {},
     "output_type": "display_data"
    }
   ],
   "source": [
    "# Get loadings (column coordinates)\n",
    "loadings = mca.column_coordinates(df_mca)\n",
    "\n",
    "# Compute absolute values of loadings to measure contribution strength\n",
    "abs_loadings = loadings.abs()\n",
    "\n",
    "# Select top 7 features for each of the first three MCs\n",
    "top_features = set()\n",
    "for i in range(3):  # Loop over MC1, MC2, MC3\n",
    "    top_features.update(abs_loadings.iloc[:, i].nlargest(7).index)\n",
    "\n",
    "# Filter loadings to only include selected top features\n",
    "loadings_filtered = loadings.loc[list(top_features), :3]\n",
    "loadings_filtered.columns = [\"MC1\", \"MC2\", \"MC3\"]\n",
    "\n",
    "# Plot the refined heatmap\n",
    "plt.figure(figsize=(8, 6))\n",
    "sns.heatmap(loadings_filtered, annot=True, cmap=\"coolwarm\", fmt=\".2f\")\n",
    "plt.title(\"MCA Loadings: Top Contributing Features\")\n",
    "plt.xlabel(\"Multiple Correspondence Components\")\n",
    "plt.ylabel(\"Top Features\")\n",
    "plt.show()"
   ]
  },
  {
   "cell_type": "markdown",
   "metadata": {},
   "source": [
    "**Interpretation of MCA Loadings Heatmap:**\n",
    "\n",
    "This heatmap displays the top contributing features (binary variables) across the first three MCA components: `MC1`, `MC2`, and `MC3`.\n",
    " - Each MCA component captures different patterns in the data — as shown by their distinct sets of strong feature loadings.\n",
    "\n",
    " **Notes:**\n",
    " - Interestingly, none of the features with high correlation (as seen in section `2.1`) or high SHAP values (as we will see later) appear in the top loadings of MC1, MC2, or MC3.\n",
    " - However, several low-importance features do contribute significantly to these MCA components. This suggests that while these features may be weak predictors individually, their combined structure captured through MCA yields components with high predictive power.\n",
    "\n"
   ]
  },
  {
   "cell_type": "markdown",
   "metadata": {},
   "source": [
    "These MCA components are then added to the DataFrame as new columns for use in further analysis."
   ]
  },
  {
   "cell_type": "code",
   "execution_count": 47,
   "metadata": {},
   "outputs": [],
   "source": [
    "df = pd.concat([df, df_mcs], axis=1)"
   ]
  },
  {
   "cell_type": "code",
   "execution_count": 48,
   "metadata": {},
   "outputs": [
    {
     "data": {
      "text/html": [
       "<div>\n",
       "<style scoped>\n",
       "    .dataframe tbody tr th:only-of-type {\n",
       "        vertical-align: middle;\n",
       "    }\n",
       "\n",
       "    .dataframe tbody tr th {\n",
       "        vertical-align: top;\n",
       "    }\n",
       "\n",
       "    .dataframe thead th {\n",
       "        text-align: right;\n",
       "    }\n",
       "</style>\n",
       "<table border=\"1\" class=\"dataframe\">\n",
       "  <thead>\n",
       "    <tr style=\"text-align: right;\">\n",
       "      <th></th>\n",
       "      <th>fallen</th>\n",
       "      <th>id</th>\n",
       "      <th>age</th>\n",
       "      <th>procedure</th>\n",
       "      <th>diagnosis</th>\n",
       "      <th>medical_items-arm_or_leg_splint</th>\n",
       "      <th>medical_items-plaster_or_neck_brace</th>\n",
       "      <th>medical_items-compression_stocking</th>\n",
       "      <th>medical_items-ventilation_mask</th>\n",
       "      <th>medical_items-O2_glasses</th>\n",
       "      <th>...</th>\n",
       "      <th>ICD10_T</th>\n",
       "      <th>ICD10_U</th>\n",
       "      <th>ICD10_V</th>\n",
       "      <th>ICD10_W</th>\n",
       "      <th>ICD10_X</th>\n",
       "      <th>ICD10_Y</th>\n",
       "      <th>ICD10_Z</th>\n",
       "      <th>MC1</th>\n",
       "      <th>MC2</th>\n",
       "      <th>MC3</th>\n",
       "    </tr>\n",
       "  </thead>\n",
       "  <tbody>\n",
       "    <tr>\n",
       "      <th>6690</th>\n",
       "      <td>False</td>\n",
       "      <td>77363</td>\n",
       "      <td>49</td>\n",
       "      <td>0</td>\n",
       "      <td>G453</td>\n",
       "      <td>False</td>\n",
       "      <td>False</td>\n",
       "      <td>False</td>\n",
       "      <td>False</td>\n",
       "      <td>False</td>\n",
       "      <td>...</td>\n",
       "      <td>False</td>\n",
       "      <td>False</td>\n",
       "      <td>False</td>\n",
       "      <td>False</td>\n",
       "      <td>False</td>\n",
       "      <td>False</td>\n",
       "      <td>False</td>\n",
       "      <td>-0.102536</td>\n",
       "      <td>0.028374</td>\n",
       "      <td>0.095790</td>\n",
       "    </tr>\n",
       "    <tr>\n",
       "      <th>35722</th>\n",
       "      <td>False</td>\n",
       "      <td>80749</td>\n",
       "      <td>34</td>\n",
       "      <td>1-10</td>\n",
       "      <td>A010</td>\n",
       "      <td>False</td>\n",
       "      <td>False</td>\n",
       "      <td>False</td>\n",
       "      <td>False</td>\n",
       "      <td>False</td>\n",
       "      <td>...</td>\n",
       "      <td>False</td>\n",
       "      <td>False</td>\n",
       "      <td>False</td>\n",
       "      <td>False</td>\n",
       "      <td>False</td>\n",
       "      <td>False</td>\n",
       "      <td>False</td>\n",
       "      <td>-0.090733</td>\n",
       "      <td>0.015647</td>\n",
       "      <td>0.007766</td>\n",
       "    </tr>\n",
       "    <tr>\n",
       "      <th>32809</th>\n",
       "      <td>False</td>\n",
       "      <td>23355</td>\n",
       "      <td>39</td>\n",
       "      <td>0</td>\n",
       "      <td>J110</td>\n",
       "      <td>False</td>\n",
       "      <td>False</td>\n",
       "      <td>False</td>\n",
       "      <td>False</td>\n",
       "      <td>False</td>\n",
       "      <td>...</td>\n",
       "      <td>False</td>\n",
       "      <td>False</td>\n",
       "      <td>False</td>\n",
       "      <td>False</td>\n",
       "      <td>False</td>\n",
       "      <td>False</td>\n",
       "      <td>False</td>\n",
       "      <td>-0.100118</td>\n",
       "      <td>0.039659</td>\n",
       "      <td>0.114347</td>\n",
       "    </tr>\n",
       "    <tr>\n",
       "      <th>10660</th>\n",
       "      <td>False</td>\n",
       "      <td>36660</td>\n",
       "      <td>29</td>\n",
       "      <td>0</td>\n",
       "      <td>S100</td>\n",
       "      <td>False</td>\n",
       "      <td>False</td>\n",
       "      <td>False</td>\n",
       "      <td>False</td>\n",
       "      <td>False</td>\n",
       "      <td>...</td>\n",
       "      <td>False</td>\n",
       "      <td>False</td>\n",
       "      <td>False</td>\n",
       "      <td>False</td>\n",
       "      <td>False</td>\n",
       "      <td>False</td>\n",
       "      <td>False</td>\n",
       "      <td>-0.107061</td>\n",
       "      <td>0.040593</td>\n",
       "      <td>-0.123145</td>\n",
       "    </tr>\n",
       "    <tr>\n",
       "      <th>33450</th>\n",
       "      <td>False</td>\n",
       "      <td>15012</td>\n",
       "      <td>54</td>\n",
       "      <td>8-92</td>\n",
       "      <td>L210</td>\n",
       "      <td>False</td>\n",
       "      <td>False</td>\n",
       "      <td>False</td>\n",
       "      <td>False</td>\n",
       "      <td>False</td>\n",
       "      <td>...</td>\n",
       "      <td>False</td>\n",
       "      <td>False</td>\n",
       "      <td>False</td>\n",
       "      <td>False</td>\n",
       "      <td>False</td>\n",
       "      <td>False</td>\n",
       "      <td>False</td>\n",
       "      <td>-0.060118</td>\n",
       "      <td>0.000139</td>\n",
       "      <td>-0.108222</td>\n",
       "    </tr>\n",
       "  </tbody>\n",
       "</table>\n",
       "<p>5 rows × 131 columns</p>\n",
       "</div>"
      ],
      "text/plain": [
       "       fallen     id  age procedure diagnosis  \\\n",
       "6690    False  77363   49         0      G453   \n",
       "35722   False  80749   34      1-10      A010   \n",
       "32809   False  23355   39         0      J110   \n",
       "10660   False  36660   29         0      S100   \n",
       "33450   False  15012   54      8-92      L210   \n",
       "\n",
       "       medical_items-arm_or_leg_splint  medical_items-plaster_or_neck_brace  \\\n",
       "6690                             False                                False   \n",
       "35722                            False                                False   \n",
       "32809                            False                                False   \n",
       "10660                            False                                False   \n",
       "33450                            False                                False   \n",
       "\n",
       "       medical_items-compression_stocking  medical_items-ventilation_mask  \\\n",
       "6690                                False                           False   \n",
       "35722                               False                           False   \n",
       "32809                               False                           False   \n",
       "10660                               False                           False   \n",
       "33450                               False                           False   \n",
       "\n",
       "       medical_items-O2_glasses  ...  ICD10_T  ICD10_U  ICD10_V  ICD10_W  \\\n",
       "6690                      False  ...    False    False    False    False   \n",
       "35722                     False  ...    False    False    False    False   \n",
       "32809                     False  ...    False    False    False    False   \n",
       "10660                     False  ...    False    False    False    False   \n",
       "33450                     False  ...    False    False    False    False   \n",
       "\n",
       "       ICD10_X  ICD10_Y  ICD10_Z       MC1       MC2       MC3  \n",
       "6690     False    False    False -0.102536  0.028374  0.095790  \n",
       "35722    False    False    False -0.090733  0.015647  0.007766  \n",
       "32809    False    False    False -0.100118  0.039659  0.114347  \n",
       "10660    False    False    False -0.107061  0.040593 -0.123145  \n",
       "33450    False    False    False -0.060118  0.000139 -0.108222  \n",
       "\n",
       "[5 rows x 131 columns]"
      ]
     },
     "execution_count": 48,
     "metadata": {},
     "output_type": "execute_result"
    }
   ],
   "source": [
    "df.head()"
   ]
  },
  {
   "cell_type": "markdown",
   "metadata": {},
   "source": [
    "# Section 3: Model Development"
   ]
  },
  {
   "cell_type": "markdown",
   "metadata": {},
   "source": [
    "In this section, we aim to develop predictive models to identify potentially endangered patients. \n",
    " - We begin with a simple Logistic Regression model, focusing on interpreting feature importance through LogOdds without hyperparameter tuning. \n",
    "\n",
    " - For the more complex model optimized for performance, we employed three different models: XGBoost, CatBoost, RandomForestFor.\n",
    "\n",
    " - Addditionaly, we alse employ two advanced approaches: the AutoML library `tpot`, which was executed multiple times over extended periods, and scikit-learn's `forward selection` method, limited to selecting up to ten variables. \n",
    "\n",
    " - Our models are optimized for the `AUPRC` (Area Under the Precision-Recall Curve), prioritizing the ranking of at-risk patients over precise predictions. \n",
    " Additionally, `recall` is emphasized to minimize the risk of overlooking any endangered individuals."
   ]
  },
  {
   "cell_type": "code",
   "execution_count": null,
   "metadata": {},
   "outputs": [],
   "source": [
    "df[\"fall-how_many_last_12_month\"] = df[\"fall-how_many_last_12_month\"].fillna(df[\"fall-how_many_last_12_month\"].mean())"
   ]
  },
  {
   "cell_type": "markdown",
   "metadata": {},
   "source": [
    "## 3.1 Simple Model: Logistic Regression"
   ]
  },
  {
   "cell_type": "code",
   "execution_count": null,
   "metadata": {},
   "outputs": [
    {
     "name": "stdout",
     "output_type": "stream",
     "text": [
      "Recall: 0.10\n"
     ]
    },
    {
     "name": "stderr",
     "output_type": "stream",
     "text": [
      "/opt/anaconda3/envs/aa_monday/lib/python3.9/site-packages/sklearn/linear_model/_logistic.py:465: ConvergenceWarning: lbfgs failed to converge (status=1):\n",
      "STOP: TOTAL NO. of ITERATIONS REACHED LIMIT.\n",
      "\n",
      "Increase the number of iterations (max_iter) or scale the data as shown in:\n",
      "    https://scikit-learn.org/stable/modules/preprocessing.html\n",
      "Please also refer to the documentation for alternative solver options:\n",
      "    https://scikit-learn.org/stable/modules/linear_model.html#logistic-regression\n",
      "  n_iter_i = _check_optimize_result(\n"
     ]
    },
    {
     "data": {
      "image/png": "[encoded data removed]",
      "text/plain": [
       "<Figure size 640x480 with 2 Axes>"
      ]
     },
     "metadata": {},
     "output_type": "display_data"
    },
    {
     "name": "stdout",
     "output_type": "stream",
     "text": [
      "AUPRC: 0.19\n"
     ]
    }
   ],
   "source": [
    "# === Load Data ===\n",
    "X = df.drop(columns=[\"fallen\", \"id\", \"procedure\", \"diagnosis\", \"ICD10_category\", \"procedure_category\"])  # Features\n",
    "y = df[\"fallen\"]  # Target\n",
    "\n",
    "# Split data into training and testing sets\n",
    "X_train, X_test, y_train, y_test = train_test_split(X, y, test_size=0.2, random_state=42)\n",
    "\n",
    "# Initialize and train the Logistic Regression model\n",
    "model = LogisticRegression()\n",
    "model.fit(X_train, y_train)\n",
    "\n",
    "# Make predictions on the test set\n",
    "y_pred = model.predict(X_test)\n",
    "y_probs = model.predict_proba(X_test)[:, 1]\n",
    "\n",
    "# Evaluate the model\n",
    "accuracy = recall_score(y_test, y_pred)\n",
    "print(f\"Recall: {accuracy:.2f}\")\n",
    "\n",
    "# === Step 8: Confusion Matrix ===\n",
    "cm = confusion_matrix(y_test, y_pred)  # Use y_test instead of y\n",
    "sns.heatmap(cm, annot=True, fmt=\"d\", cmap=\"Blues\", xticklabels=[\"Not Fall\", \"Fall\"], yticklabels=[\"Not Fall\", \"Fall\"])\n",
    "plt.xlabel(\"Predicted Label\")\n",
    "plt.ylabel(\"True Label\")\n",
    "plt.title(\"Confusion Matrix\")\n",
    "plt.show()\n",
    "\n",
    "# Calculate Precision-Recall curve and AUPRC\n",
    "precision, recall, _ = precision_recall_curve(y_test, y_probs)\n",
    "auprc = auc(recall, precision)\n",
    "\n",
    "print(f\"AUPRC: {auprc:.2f}\")\n"
   ]
  },
  {
   "cell_type": "code",
   "execution_count": null,
   "metadata": {},
   "outputs": [
    {
     "data": {
      "image/png": "[encoded data removed]",
      "text/plain": [
       "<Figure size 1000x600 with 1 Axes>"
      ]
     },
     "metadata": {},
     "output_type": "display_data"
    }
   ],
   "source": [
    "# Get the coefficients of the logistic regression model\n",
    "coefficients = model.coef_[0]\n",
    "\n",
    "# Create a DataFrame to display features and their importance (coefficients)\n",
    "feature_importance = pd.DataFrame({\n",
    "    'Feature': X.columns,\n",
    "    'Coefficient': coefficients,\n",
    "    'Absolute Coefficient': abs(coefficients)\n",
    "})\n",
    "\n",
    "# Sort by absolute coefficient value to show most important features in descending order\n",
    "feature_importance = feature_importance.sort_values(by='Absolute Coefficient', ascending=False)\n",
    "\n",
    "# Get the top 10 most important features\n",
    "top_10_features = feature_importance.head(10)\n",
    "\n",
    "# Plot the top 10 most important features (largest bars at the top)\n",
    "plt.figure(figsize=(10, 6))\n",
    "plt.barh(top_10_features['Feature'], top_10_features['Absolute Coefficient'])\n",
    "plt.xlabel('Absolute Coefficient')\n",
    "plt.title('Top 10 Feature Importance (Logistic Regression)')\n",
    "plt.gca().invert_yaxis()  # Inverts the y-axis to place the largest feature at the top\n",
    "plt.show()"
   ]
  },
  {
   "cell_type": "markdown",
   "metadata": {},
   "source": []
  },
  {
   "cell_type": "markdown",
   "metadata": {},
   "source": [
    "## 3.2 Complex Model"
   ]
  },
  {
   "cell_type": "markdown",
   "metadata": {},
   "source": [
    "### 3.2.1 Random Forest"
   ]
  },
  {
   "cell_type": "code",
   "execution_count": null,
   "metadata": {},
   "outputs": [],
   "source": [
    "def rf_pipeline(df):\n",
    "    \"\"\"\n",
    "    Trains and evaluates a Random Forest model with hyperparameter tuning,\n",
    "    finds the best threshold for recall/precision, and visualizes performance.\n",
    "\n",
    "    Args:\n",
    "        df (pd.DataFrame): The cleaned dataset.\n",
    "\n",
    "    Returns:\n",
    "        dict: Model performance metrics.\n",
    "    \"\"\"\n",
    "\n",
    "    X = df.drop(columns=[\"fallen\", \"id\", \"procedure\", \"diagnosis\", \"ICD10_category\", \"procedure_category\"])  # Features\n",
    "    y = df[\"fallen\"]  # Target\n",
    "\n",
    "    # Split train/test sets\n",
    "    X_train, X_test, y_train, y_test = train_test_split(\n",
    "        X, y, test_size=0.2, random_state=42, stratify=y\n",
    "    )\n",
    "\n",
    "    # === Step 1: Hyperparameter Tuning using GridSearchCV ===\n",
    "    param_grid = {\n",
    "        'n_estimators': [100, 200],  # Number of trees\n",
    "        'max_depth': [None, 10, 20],  # Maximum depth of the tree\n",
    "        'min_samples_split': [2, 5],  # Minimum number of samples required to split a node\n",
    "        'min_samples_leaf': [1, 2],  # Minimum number of samples required at a leaf node\n",
    "        'max_features': ['sqrt', 'log2'],  # Number of features to consider for splitting\n",
    "        'random_state': [42]\n",
    "    }\n",
    "\n",
    "    # Initialize the RandomForestClassifier\n",
    "    rf_model = RandomForestClassifier(random_state=42)\n",
    "\n",
    "    grid_search = GridSearchCV(rf_model, param_grid, scoring=\"average_precision\", cv=5, n_jobs=-1)\n",
    "    grid_search.fit(X_train, y_train)\n",
    "\n",
    "    # Best model after tuning\n",
    "    best_rf_classifier = grid_search.best_estimator_\n",
    "\n",
    "    # Print the best parameters and best score\n",
    "    print(\"\\nBest parameters found:\")\n",
    "    print(grid_search.best_params_)\n",
    "    print(f\"Best cross-validation average precision: {grid_search.best_score_:.4f}\")\n",
    "\n",
    "    # Train the best model on the full training set\n",
    "    best_rf_classifier.fit(X_train, y_train)\n",
    "\n",
    "    # Evaluate on test set\n",
    "    y_pred_rf = best_rf_classifier.predict(X_test)\n",
    "    print(np.unique(y_pred_rf, return_counts=True))\n",
    "\n",
    "    print(\"\\nTest set performance with optimized hyperparameters:\")\n",
    "    print(f\"Recall: {recall_score(y_test, y_pred_rf):.4f}\")\n",
    "    print(classification_report(y_test, y_pred_rf))\n",
    "\n",
    "    # === Step 2: Cross-Validation Prediction for Evaluation ===\n",
    "    cv = StratifiedKFold(n_splits=5)\n",
    "    y_probs_rf = cross_val_predict(best_rf_classifier, X, y, cv=cv, method=\"predict_proba\")[:, 1]\n",
    "\n",
    "    # === Step 3: Compute AUC-PR ===\n",
    "    precision_rf, recall_rf, thresholds_rf = precision_recall_curve(y, y_probs_rf)\n",
    "    auc_pr_rf = auc(recall_rf, precision_rf)\n",
    "\n",
    "    print(f\"AUC-PR Score: {auc_pr_rf:.4f}\")\n",
    "\n",
    "    # === Step 4: Plot Precision-Recall Curve ===\n",
    "    plt.figure(figsize=(8, 6))\n",
    "    plt.plot(recall_rf, precision_rf, marker=\".\", label=f\"AUC-PR = {auc_pr_rf:.4f}\")\n",
    "    plt.xlabel(\"Recall\")\n",
    "    plt.ylabel(\"Precision\")\n",
    "    plt.title(\"Precision-Recall Curve (Random Forest)\")\n",
    "    plt.legend()\n",
    "    plt.grid()\n",
    "    plt.show()\n",
    "\n",
    "    # === Step 5: Histogram of Prediction Probabilities ===\n",
    "    plt.figure(figsize=(8, 6))\n",
    "    plt.hist(y_probs_rf, bins=30, color='skyblue', edgecolor='black', alpha=0.7)\n",
    "    plt.title(\"Histogram of Predicted Fall Probabilities (Random Forest)\")\n",
    "    plt.xlabel(\"Predicted Probability of Fall (fallen=1)\")\n",
    "    plt.ylabel(\"Frequency\")\n",
    "    plt.yscale('log')\n",
    "    plt.grid(True)\n",
    "    plt.show()\n",
    "\n",
    "    # === Step 6: Find Best Threshold for Recall-Precision Tradeoff ===\n",
    "    best_threshold_rf = thresholds_rf[np.argmax(precision_rf * recall_rf)]\n",
    "    print(f\"Best Threshold for Precision-Recall Balance: {best_threshold_rf:.4f}\")\n",
    "\n",
    "    # Apply the best threshold\n",
    "    y_pred_rf_thresholded = (y_probs_rf >= best_threshold_rf).astype(int)\n",
    "\n",
    "    # === Step 7: Confusion Matrix ===\n",
    "    cm_rf = confusion_matrix(y, y_pred_rf_thresholded)\n",
    "    sns.heatmap(cm_rf, annot=True, fmt=\"d\", cmap=\"Blues\", xticklabels=[\"Not Fall\", \"Fall\"], yticklabels=[\"Not Fall\", \"Fall\"])\n",
    "    plt.xlabel(\"Predicted Label\")\n",
    "    plt.ylabel(\"True Label\")\n",
    "    plt.title(\"Random Forest Confusion Matrix\")\n",
    "    plt.show()\n",
    "\n",
    "    # === Step 8: Feature Importance ===\n",
    "    feature_importances_rf = pd.DataFrame(\n",
    "        {\"Feature\": X.columns, \"Importance\": best_rf_classifier.feature_importances_}\n",
    "    ).sort_values(by=\"Importance\", ascending=False)\n",
    "\n",
    "    print(\"Top 10 Important Features:\")\n",
    "    print(feature_importances_rf.head(10))"
   ]
  },
  {
   "cell_type": "code",
   "execution_count": null,
   "metadata": {},
   "outputs": [],
   "source": [
    "rf_pipeline(df)"
   ]
  },
  {
   "cell_type": "markdown",
   "metadata": {},
   "source": [
    "Interpretation:\n",
    "Achieved AUPRC of 0.23\n",
    ".\n",
    ".\n",
    "."
   ]
  },
  {
   "cell_type": "markdown",
   "metadata": {},
   "source": [
    "Note to Fanny:\n",
    "\n",
    "- we employed three different models. XGBoost, CatBoost, RandomForest\n",
    "- all results (AUPRC) were similar hwoever feature importance highly different\n",
    "- we decided to go forward with XGBoost since it was most efficient and forward selection/autml(tpot) is very runtime heavy\n",
    "- the final XGBoost model with 10 features from forward selection was most sucessful, likely beacuase the dimesnionality was highly reduced (Curse of Dimesnionality)"
   ]
  },
  {
   "cell_type": "markdown",
   "metadata": {},
   "source": [
    "### 3.2.2 CatBoost"
   ]
  },
  {
   "cell_type": "code",
   "execution_count": null,
   "metadata": {},
   "outputs": [],
   "source": [
    "\n",
    "def cat_pipeline(df):\n",
    "    \"\"\"\n",
    "    Trains and evaluates a Decision Tree model with hyperparameter tuning,\n",
    "    finds the best threshold for recall/precision, and visualizes performance.\n",
    "\n",
    "    Args:\n",
    "        df (pd.DataFrame): The cleaned dataset.\n",
    "        target_col (str): Target variable name.\n",
    "        test_size (float): Train-test split ratio.\n",
    "        random_state (int): Random seed for reproducibility.\n",
    "\n",
    "    Returns:\n",
    "        dict: Model performance metrics.\n",
    "    \"\"\"\n",
    "\n",
    "\n",
    "    X = df.drop(columns=[\"fallen\", \"id\", \"procedure\", \"diagnosis\", \"ICD10_category\", \"procedure_category\"])  # Features\n",
    "    y = df[\"fallen\"]  # Target\n",
    "\n",
    "    # Split train/test sets\n",
    "    X_train, X_test, y_train, y_test = train_test_split(\n",
    "        X, y, test_size=0.2, random_state=42, stratify=y\n",
    "    )\n",
    "\n",
    "    # Define categorical features\n",
    "    all_features = set(X.columns)  # Convert to set for set operations\n",
    "    non_cat_features = {\"age\", \"fall-how_many_last_12_month\", \"MC1\", \"MC2\", \"MC3\"}  # Define explicitly\n",
    "    cat_features = list(all_features.difference(non_cat_features))  # Ensure correct conversion\n",
    "\n",
    "    train_pool = Pool(X_train, label=y_train, cat_features=cat_features)\n",
    "    # Train a CatBoost model\n",
    "    model = CatBoostClassifier(verbose=False)\n",
    "\n",
    "\n",
    "    param_grid = {\n",
    "        'iterations': [100, 200],\n",
    "        'depth': [4, 6],\n",
    "        'learning_rate': [0.01, 0.1]\n",
    "    }\n",
    "\n",
    "    # === Step 2: Hyperparameter Tuning using GridSearchCV ===\n",
    "    grid_search = GridSearchCV(model, param_grid, scoring=\"average_precision\", cv=5, n_jobs=-1)\n",
    "    grid_search.fit(X_train, y_train)\n",
    "\n",
    "    # Best model after tuning\n",
    "    best_classifier = grid_search.best_estimator_\n",
    "\n",
    "    # # Print the best parameters and best score\n",
    "    print(\"\\nBest parameters found:\")\n",
    "    print(grid_search.best_params_)\n",
    "    print(f\"Best cross-validation average precision: {grid_search.best_score_:.4f}\")\n",
    "\n",
    "\n",
    "\n",
    "    # # Train a model with the best parameters\n",
    "    best_classifier.fit(X_train, y_train)\n",
    "\n",
    "    # Evaluate on test set\n",
    "    y_pred_best_classifier = best_classifier.predict(X_test)\n",
    "    print(np.unique(y_pred_best_classifier, return_counts=True))\n",
    "\n",
    "    print(\"\\nTest set performance with optimized hyperparameters:\")\n",
    "    print(f\"Recall: {recall_score(y_test, y_pred_best_classifier):.4f}\")\n",
    "    print(classification_report(y_test, y_pred_best_classifier))\n",
    "\n",
    "\n",
    "    # # === Step 3: Cross-Validation Prediction for Evaluation ===\n",
    "    cv = StratifiedKFold(n_splits=5)\n",
    "    y_probs = cross_val_predict(best_classifier, X, y, cv=cv, method=\"predict_proba\")[:, 1]\n",
    "\n",
    "\n",
    "\n",
    "    # # === Step 4: Compute AUC-PR ===\n",
    "    precision, recall, thresholds = precision_recall_curve(y, y_probs)\n",
    "    auc_pr = auc(recall, precision)\n",
    "\n",
    "    print(f\"AUC-PR Score: {auc_pr:.4f}\")\n",
    "\n",
    "    # === Step 5: Plot Precision-Recall Curve ===\n",
    "    plt.figure(figsize=(8, 6))\n",
    "    plt.plot(recall, precision, marker=\".\", label=f\"AUC-PR = {auc_pr:.4f}\")\n",
    "    plt.xlabel(\"Recall\")\n",
    "    plt.ylabel(\"Precision\")\n",
    "    plt.title(\"Precision-Recall Curve\")\n",
    "    plt.legend()\n",
    "    plt.grid()\n",
    "    plt.show()\n",
    "\n",
    "    # === Step 6: Histogram of Prediction Probabilities ===\n",
    "    plt.figure(figsize=(8, 6))\n",
    "    plt.hist(y_probs, bins=30, color='skyblue', edgecolor='black', alpha=0.7)\n",
    "    plt.title(\"Histogram of Predicted Fall Probabilities\")\n",
    "    plt.xlabel(\"Predicted Probability of Fall (fallen=1)\")\n",
    "    plt.ylabel(\"Frequency\")\n",
    "\n",
    "    # Apply logarithmic scale to y-axis\n",
    "    plt.yscale('log')\n",
    "    plt.grid(True)\n",
    "    plt.show()\n",
    "\n",
    "    # === Step 7: Find Best Threshold for Recall-Precision Tradeoff ===\n",
    "    best_threshold = thresholds[np.argmax(precision * recall)]\n",
    "    print(f\"Best Threshold for Precision-Recall Balance: {best_threshold:.4f}\")\n",
    "\n",
    "    # Apply the best threshold\n",
    "    y_pred = (y_probs >= best_threshold).astype(int)\n",
    "\n",
    "    # === Step 8: Confusion Matrix ===\n",
    "    cm = confusion_matrix(y, y_pred)\n",
    "    sns.heatmap(cm, annot=True, fmt=\"d\", cmap=\"Blues\", xticklabels=[\"Not Fall\", \"Fall\"], yticklabels=[\"Not Fall\", \"Fall\"])\n",
    "    plt.xlabel(\"Predicted Label\")\n",
    "    plt.ylabel(\"True Label\")\n",
    "    plt.title(\"Confusion Matrix\")\n",
    "    plt.show()\n",
    "\n",
    "    # === Step 9: Feature Importance ===\n",
    "    feature_importances = pd.DataFrame(\n",
    "        {\"Feature\": X.columns, \"Importance\": best_classifier.feature_importances_}\n",
    "    ).sort_values(by=\"Importance\", ascending=False)\n",
    "\n",
    "    print(\"Top 10 Important Features:\")\n",
    "    print(feature_importances.head(30))\n",
    "\n",
    "     # # Compute SHAP values\n",
    "    explainer = shap.TreeExplainer(best_classifier)\n",
    "    shap_values = explainer(X_train)\n",
    "\n",
    "    shap.plots.waterfall(shap_values[0])\n",
    "\n",
    "    shap.plots.bar(shap_values)\n",
    "\n",
    "    shap.plots.beeswarm(shap_values)"
   ]
  },
  {
   "cell_type": "code",
   "execution_count": null,
   "metadata": {},
   "outputs": [
    {
     "ename": "CatBoostError",
     "evalue": "Invalid type for cat_feature[non-default value idx=0,feature_idx=122]=-0.090037833547389 : cat_features must be integer or string, real number values and NaN values should be converted to string.",
     "output_type": "error",
     "traceback": [
      "\u001b[0;31m---------------------------------------------------------------------------\u001b[0m",
      "\u001b[0;31mCatBoostError\u001b[0m                             Traceback (most recent call last)",
      "File \u001b[0;32m_catboost.pyx:2613\u001b[0m, in \u001b[0;36m_catboost.get_cat_factor_bytes_representation\u001b[0;34m()\u001b[0m\n",
      "File \u001b[0;32m_catboost.pyx:2128\u001b[0m, in \u001b[0;36m_catboost.get_id_object_bytes_string_representation\u001b[0;34m()\u001b[0m\n",
      "\u001b[0;31mCatBoostError\u001b[0m: bad object for id: -0.090037833547389",
      "\nDuring handling of the above exception, another exception occurred:\n",
      "\u001b[0;31mCatBoostError\u001b[0m                             Traceback (most recent call last)",
      "Cell \u001b[0;32mIn[55], line 1\u001b[0m\n\u001b[0;32m----> 1\u001b[0m \u001b[43mcat_pipeline\u001b[49m\u001b[43m(\u001b[49m\u001b[43mdf\u001b[49m\u001b[43m)\u001b[49m\n",
      "Cell \u001b[0;32mIn[54], line 30\u001b[0m, in \u001b[0;36mcat_pipeline\u001b[0;34m(df)\u001b[0m\n\u001b[1;32m     27\u001b[0m non_cat_features \u001b[38;5;241m=\u001b[39m {\u001b[38;5;124m\"\u001b[39m\u001b[38;5;124mage\u001b[39m\u001b[38;5;124m\"\u001b[39m, \u001b[38;5;124m\"\u001b[39m\u001b[38;5;124mfall-how_many_last_12_month\u001b[39m\u001b[38;5;124m\"\u001b[39m}  \u001b[38;5;66;03m# Define explicitly\u001b[39;00m\n\u001b[1;32m     28\u001b[0m cat_features \u001b[38;5;241m=\u001b[39m \u001b[38;5;28mlist\u001b[39m(all_features\u001b[38;5;241m.\u001b[39mdifference(non_cat_features))  \u001b[38;5;66;03m# Ensure correct conversion\u001b[39;00m\n\u001b[0;32m---> 30\u001b[0m train_pool \u001b[38;5;241m=\u001b[39m \u001b[43mPool\u001b[49m\u001b[43m(\u001b[49m\u001b[43mX_train\u001b[49m\u001b[43m,\u001b[49m\u001b[43m \u001b[49m\u001b[43mlabel\u001b[49m\u001b[38;5;241;43m=\u001b[39;49m\u001b[43my_train\u001b[49m\u001b[43m,\u001b[49m\u001b[43m \u001b[49m\u001b[43mcat_features\u001b[49m\u001b[38;5;241;43m=\u001b[39;49m\u001b[43mcat_features\u001b[49m\u001b[43m)\u001b[49m\n\u001b[1;32m     31\u001b[0m \u001b[38;5;66;03m# Train a CatBoost model\u001b[39;00m\n\u001b[1;32m     32\u001b[0m model \u001b[38;5;241m=\u001b[39m CatBoostClassifier(verbose\u001b[38;5;241m=\u001b[39m\u001b[38;5;28;01mFalse\u001b[39;00m)\n",
      "File \u001b[0;32m/opt/anaconda3/envs/aa_monday/lib/python3.9/site-packages/catboost/core.py:855\u001b[0m, in \u001b[0;36mPool.__init__\u001b[0;34m(self, data, label, cat_features, text_features, embedding_features, embedding_features_data, column_description, pairs, graph, delimiter, has_header, ignore_csv_quoting, weight, group_id, group_weight, subgroup_id, pairs_weight, baseline, timestamp, feature_names, feature_tags, thread_count, log_cout, log_cerr, data_can_be_none)\u001b[0m\n\u001b[1;32m    849\u001b[0m         \u001b[38;5;28;01mif\u001b[39;00m \u001b[38;5;28misinstance\u001b[39m(feature_names, PATH_TYPES):\n\u001b[1;32m    850\u001b[0m             \u001b[38;5;28;01mraise\u001b[39;00m CatBoostError(\n\u001b[1;32m    851\u001b[0m                 \u001b[38;5;124m\"\u001b[39m\u001b[38;5;124mfeature_names must be None or have non-string type when the pool is created from \u001b[39m\u001b[38;5;124m\"\u001b[39m\n\u001b[1;32m    852\u001b[0m                 \u001b[38;5;124m\"\u001b[39m\u001b[38;5;124mpython objects.\u001b[39m\u001b[38;5;124m\"\u001b[39m\n\u001b[1;32m    853\u001b[0m             )\n\u001b[0;32m--> 855\u001b[0m         \u001b[38;5;28;43mself\u001b[39;49m\u001b[38;5;241;43m.\u001b[39;49m\u001b[43m_init\u001b[49m\u001b[43m(\u001b[49m\u001b[43mdata\u001b[49m\u001b[43m,\u001b[49m\u001b[43m \u001b[49m\u001b[43mlabel\u001b[49m\u001b[43m,\u001b[49m\u001b[43m \u001b[49m\u001b[43mcat_features\u001b[49m\u001b[43m,\u001b[49m\u001b[43m \u001b[49m\u001b[43mtext_features\u001b[49m\u001b[43m,\u001b[49m\u001b[43m \u001b[49m\u001b[43membedding_features\u001b[49m\u001b[43m,\u001b[49m\u001b[43m \u001b[49m\u001b[43membedding_features_data\u001b[49m\u001b[43m,\u001b[49m\u001b[43m \u001b[49m\u001b[43mpairs\u001b[49m\u001b[43m,\u001b[49m\u001b[43m \u001b[49m\u001b[43mgraph\u001b[49m\u001b[43m,\u001b[49m\u001b[43m \u001b[49m\u001b[43mweight\u001b[49m\u001b[43m,\u001b[49m\n\u001b[1;32m    856\u001b[0m \u001b[43m                   \u001b[49m\u001b[43mgroup_id\u001b[49m\u001b[43m,\u001b[49m\u001b[43m \u001b[49m\u001b[43mgroup_weight\u001b[49m\u001b[43m,\u001b[49m\u001b[43m \u001b[49m\u001b[43msubgroup_id\u001b[49m\u001b[43m,\u001b[49m\u001b[43m \u001b[49m\u001b[43mpairs_weight\u001b[49m\u001b[43m,\u001b[49m\u001b[43m \u001b[49m\u001b[43mbaseline\u001b[49m\u001b[43m,\u001b[49m\u001b[43m \u001b[49m\u001b[43mtimestamp\u001b[49m\u001b[43m,\u001b[49m\u001b[43m \u001b[49m\u001b[43mfeature_names\u001b[49m\u001b[43m,\u001b[49m\u001b[43m \u001b[49m\u001b[43mfeature_tags\u001b[49m\u001b[43m,\u001b[49m\u001b[43m \u001b[49m\u001b[43mthread_count\u001b[49m\u001b[43m)\u001b[49m\n\u001b[1;32m    857\u001b[0m \u001b[38;5;28;01melif\u001b[39;00m \u001b[38;5;129;01mnot\u001b[39;00m data_can_be_none:\n\u001b[1;32m    858\u001b[0m     \u001b[38;5;28;01mraise\u001b[39;00m CatBoostError(\u001b[38;5;124m\"\u001b[39m\u001b[38;5;124m'\u001b[39m\u001b[38;5;124mdata\u001b[39m\u001b[38;5;124m'\u001b[39m\u001b[38;5;124m parameter can\u001b[39m\u001b[38;5;124m'\u001b[39m\u001b[38;5;124mt be None\u001b[39m\u001b[38;5;124m\"\u001b[39m)\n",
      "File \u001b[0;32m/opt/anaconda3/envs/aa_monday/lib/python3.9/site-packages/catboost/core.py:1491\u001b[0m, in \u001b[0;36mPool._init\u001b[0;34m(self, data, label, cat_features, text_features, embedding_features, embedding_features_data, pairs, graph, weight, group_id, group_weight, subgroup_id, pairs_weight, baseline, timestamp, feature_names, feature_tags, thread_count)\u001b[0m\n\u001b[1;32m   1489\u001b[0m \u001b[38;5;28;01mif\u001b[39;00m feature_tags \u001b[38;5;129;01mis\u001b[39;00m \u001b[38;5;129;01mnot\u001b[39;00m \u001b[38;5;28;01mNone\u001b[39;00m:\n\u001b[1;32m   1490\u001b[0m     feature_tags \u001b[38;5;241m=\u001b[39m \u001b[38;5;28mself\u001b[39m\u001b[38;5;241m.\u001b[39m_check_transform_tags(feature_tags, feature_names)\n\u001b[0;32m-> 1491\u001b[0m \u001b[38;5;28;43mself\u001b[39;49m\u001b[38;5;241;43m.\u001b[39;49m\u001b[43m_init_pool\u001b[49m\u001b[43m(\u001b[49m\u001b[43mdata\u001b[49m\u001b[43m,\u001b[49m\u001b[43m \u001b[49m\u001b[43mlabel\u001b[49m\u001b[43m,\u001b[49m\u001b[43m \u001b[49m\u001b[43mcat_features\u001b[49m\u001b[43m,\u001b[49m\u001b[43m \u001b[49m\u001b[43mtext_features\u001b[49m\u001b[43m,\u001b[49m\u001b[43m \u001b[49m\u001b[43membedding_features\u001b[49m\u001b[43m,\u001b[49m\u001b[43m \u001b[49m\u001b[43membedding_features_data\u001b[49m\u001b[43m,\u001b[49m\u001b[43m \u001b[49m\u001b[43mpairs\u001b[49m\u001b[43m,\u001b[49m\u001b[43m \u001b[49m\u001b[43mgraph\u001b[49m\u001b[43m,\u001b[49m\u001b[43m \u001b[49m\u001b[43mweight\u001b[49m\u001b[43m,\u001b[49m\n\u001b[1;32m   1492\u001b[0m \u001b[43m                \u001b[49m\u001b[43mgroup_id\u001b[49m\u001b[43m,\u001b[49m\u001b[43m \u001b[49m\u001b[43mgroup_weight\u001b[49m\u001b[43m,\u001b[49m\u001b[43m \u001b[49m\u001b[43msubgroup_id\u001b[49m\u001b[43m,\u001b[49m\u001b[43m \u001b[49m\u001b[43mpairs_weight\u001b[49m\u001b[43m,\u001b[49m\u001b[43m \u001b[49m\u001b[43mbaseline\u001b[49m\u001b[43m,\u001b[49m\u001b[43m \u001b[49m\u001b[43mtimestamp\u001b[49m\u001b[43m,\u001b[49m\u001b[43m \u001b[49m\u001b[43mfeature_names\u001b[49m\u001b[43m,\u001b[49m\u001b[43m \u001b[49m\u001b[43mfeature_tags\u001b[49m\u001b[43m,\u001b[49m\u001b[43m \u001b[49m\u001b[43mthread_count\u001b[49m\u001b[43m)\u001b[49m\n",
      "File \u001b[0;32m_catboost.pyx:4339\u001b[0m, in \u001b[0;36m_catboost._PoolBase._init_pool\u001b[0;34m()\u001b[0m\n",
      "File \u001b[0;32m_catboost.pyx:4391\u001b[0m, in \u001b[0;36m_catboost._PoolBase._init_pool\u001b[0;34m()\u001b[0m\n",
      "File \u001b[0;32m_catboost.pyx:4200\u001b[0m, in \u001b[0;36m_catboost._PoolBase._init_features_order_layout_pool\u001b[0;34m()\u001b[0m\n",
      "File \u001b[0;32m_catboost.pyx:3100\u001b[0m, in \u001b[0;36m_catboost._set_features_order_data_pd_data_frame\u001b[0;34m()\u001b[0m\n",
      "File \u001b[0;32m_catboost.pyx:2620\u001b[0m, in \u001b[0;36m_catboost.get_cat_factor_bytes_representation\u001b[0;34m()\u001b[0m\n",
      "\u001b[0;31mCatBoostError\u001b[0m: Invalid type for cat_feature[non-default value idx=0,feature_idx=122]=-0.090037833547389 : cat_features must be integer or string, real number values and NaN values should be converted to string."
     ]
    }
   ],
   "source": [
    "cat_pipeline(df)"
   ]
  },
  {
   "cell_type": "markdown",
   "metadata": {},
   "source": [
    "Interpretation:\n",
    "Achieved AUPRC of 0.21 worse than the decision tree.\n",
    "Interpretation of the SHAP-Values"
   ]
  },
  {
   "cell_type": "markdown",
   "metadata": {},
   "source": [
    "### 3.2.3 XGBoost"
   ]
  },
  {
   "cell_type": "code",
   "execution_count": null,
   "metadata": {},
   "outputs": [],
   "source": [
    "\n",
    "def xgb_pipeline(df):\n",
    "    \"\"\"\n",
    "    Trains and evaluates a Decision Tree model with hyperparameter tuning,\n",
    "    finds the best threshold for recall/precision, and visualizes performance.\n",
    "\n",
    "    Args:\n",
    "        df (pd.DataFrame): The cleaned dataset.\n",
    "        target_col (str): Target variable name.\n",
    "        test_size (float): Train-test split ratio.\n",
    "        random_state (int): Random seed for reproducibility.\n",
    "\n",
    "    Returns:\n",
    "        dict: Model performance metrics.\n",
    "    \"\"\"\n",
    "\n",
    "\n",
    "    # === Load Data ===\n",
    "    X = df.drop(columns=[\"fallen\", \"id\", \"procedure\", \"diagnosis\", \"ICD10_category\", \"procedure_category\"])  # Features\n",
    "    y = df[\"fallen\"]  # Target\n",
    "\n",
    "    # Split train/test sets\n",
    "    # Use stratified sampling to ensure balanced class distribution\n",
    "    X_train, X_test, y_train, y_test = train_test_split(\n",
    "        X, y, test_size=0.2, random_state=42, stratify=y\n",
    "    )\n",
    "\n",
    "\n",
    "    # === Step 1: Define Model & Parameter Grid ===\n",
    "    model = xgb.XGBClassifier()\n",
    "\n",
    "    param_grid = {\n",
    "        'n_estimators': [100, 200],\n",
    "        'max_depth': [3, 6],\n",
    "        'learning_rate': [0.01, 0.1]\n",
    "    }\n",
    "\n",
    "    # === Step 2: Hyperparameter Tuning using GridSearchCV ===\n",
    "    grid_search = GridSearchCV(model, param_grid, scoring=\"average_precision\", cv=5, n_jobs=-1)\n",
    "    grid_search.fit(X_train, y_train)\n",
    "\n",
    "    # Best model after tuning\n",
    "    best_classifier = grid_search.best_estimator_\n",
    "\n",
    "    # Print the best parameters and best score\n",
    "    print(\"\\nBest parameters found:\")\n",
    "    print(grid_search.best_params_)\n",
    "    print(f\"Best cross-validation average precision: {grid_search.best_score_:.4f}\")\n",
    "\n",
    "\n",
    "\n",
    "    # Train a model with the best parameters\n",
    "    best_classifier.fit(X_train, y_train)\n",
    "\n",
    "    # Evaluate on test set\n",
    "    y_pred_best_classifier = best_classifier.predict(X_test)\n",
    "    print(np.unique(y_pred_best_classifier, return_counts=True))\n",
    "\n",
    "    print(\"\\nTest set performance with optimized hyperparameters:\")\n",
    "    print(f\"Recall: {recall_score(y_test, y_pred_best_classifier):.4f}\")\n",
    "    print(classification_report(y_test, y_pred_best_classifier))\n",
    "\n",
    "\n",
    "    # === Step 3: Cross-Validation Prediction for Evaluation ===\n",
    "    cv = StratifiedKFold(n_splits=5)\n",
    "    y_probs = cross_val_predict(best_classifier, X, y, cv=cv, method=\"predict_proba\")[:, 1]\n",
    "\n",
    "\n",
    "\n",
    "    # === Step 4: Compute AUC-PR ===\n",
    "    precision, recall, thresholds = precision_recall_curve(y, y_probs)\n",
    "    auc_pr = auc(recall, precision)\n",
    "    roc_auc = roc_auc_score(y, y_probs)\n",
    "\n",
    "    print(f\"AUC-PR Score: {auc_pr:.4f}\")\n",
    "\n",
    "    # === Step 5: Plot Precision-Recall Curve ===\n",
    "    plt.figure(figsize=(8, 6))\n",
    "    plt.plot(recall, precision, marker=\".\", label=f\"AUC-PR = {auc_pr:.4f}\")\n",
    "    plt.xlabel(\"Recall\")\n",
    "    plt.ylabel(\"Precision\")\n",
    "    plt.title(\"Precision-Recall Curve\")\n",
    "    plt.legend()\n",
    "    plt.grid()\n",
    "    plt.show()\n",
    "\n",
    "    # === Step 6: Histogram of Prediction Probabilities ===\n",
    "    plt.figure(figsize=(8, 6))\n",
    "    plt.hist(y_probs, bins=30, color='skyblue', edgecolor='black', alpha=0.7)\n",
    "    plt.title(\"Histogram of Predicted Fall Probabilities\")\n",
    "    plt.xlabel(\"Predicted Probability of Fall (fallen=1)\")\n",
    "    plt.ylabel(\"Frequency\")\n",
    "\n",
    "    # Apply logarithmic scale to y-axis\n",
    "    plt.yscale('log')\n",
    "    plt.grid(True)\n",
    "    plt.show()\n",
    "\n",
    "    # === Step 7: Find Best Threshold for Recall-Precision Tradeoff ===\n",
    "    best_threshold = thresholds[np.argmax(precision * recall)]\n",
    "    print(f\"Best Threshold for Precision-Recall Balance: {best_threshold:.4f}\")\n",
    "\n",
    "    # Apply the best threshold\n",
    "    y_pred = (y_probs >= best_threshold).astype(int)\n",
    "\n",
    "    # === Step 8: Confusion Matrix ===\n",
    "    cm = confusion_matrix(y, y_pred)\n",
    "    sns.heatmap(cm, annot=True, fmt=\"d\", cmap=\"Blues\", xticklabels=[\"Not Fall\", \"Fall\"], yticklabels=[\"Not Fall\", \"Fall\"])\n",
    "    plt.xlabel(\"Predicted Label\")\n",
    "    plt.ylabel(\"True Label\")\n",
    "    plt.title(\"Confusion Matrix\")\n",
    "    plt.show()\n",
    "\n",
    "    # === Step 9: Feature Importance ===\n",
    "    feature_importances = pd.DataFrame(\n",
    "        {\"Feature\": X.columns, \"Importance\": best_classifier.feature_importances_}\n",
    "    ).sort_values(by=\"Importance\", ascending=False)\n",
    "\n",
    "    print(\"Top 10 Important Features:\")\n",
    "    print(feature_importances.head(30))\n",
    "\n",
    "    print(\"Shap Values for the train set\")\n",
    "    explainer = shap.TreeExplainer(best_classifier)\n",
    "    shap_values_train = explainer(X_train)\n",
    "\n",
    "    shap.plots.waterfall(shap_values_train[0])\n",
    "\n",
    "    shap.plots.bar(shap_values_train)\n",
    "    shap.summary_plot(shap_values_train, X_train, plot_type=\"bar\")\n",
    "\n",
    "    shap.plots.beeswarm(shap_values_train)\n",
    "\n",
    "    print(\"Shap Values for the test set\")\n",
    "    shap_values_test = explainer(X_test)\n",
    "    shap.plots.waterfall(shap_values_test[0])\n",
    "\n",
    "    shap.plots.bar(shap_values_test)\n",
    "    shap.summary_plot(shap_values_test, X_test, plot_type=\"bar\")\n",
    "\n",
    "    shap.plots.beeswarm(shap_values_test)\n"
   ]
  },
  {
   "cell_type": "code",
   "execution_count": null,
   "metadata": {},
   "outputs": [],
   "source": [
    "xgb_pipeline(df)"
   ]
  },
  {
   "cell_type": "markdown",
   "metadata": {},
   "source": [
    "#### Result Summary for XGBoost, CatBoost, RandomForest\n",
    "\n",
    "\t\tTODO: Pull result here for comparison\n",
    "\n",
    "- all results (AUPRC) were similar hwoever feature importance highly different\n",
    "- we decided to go forward with XGBoost since it was most efficient and forward selection/autml(tpot) is very runtime heavy\n",
    "- the final XGBoost model with 10 features from forward selection was most sucessful, likely beacuase the dimesnionality was highly reduced (Curse of Dimesnionality)"
   ]
  },
  {
   "cell_type": "markdown",
   "metadata": {},
   "source": [
    "Intrepretation:\n",
    "Slightly worse performance than CatBoost but way more efficient\n",
    "\n",
    "Since in the following tunig process we do not want to use all variables but only a subset we employ a feature selection technique.\n",
    "\n",
    "We are first employing forward selection. Since this requires an efficient model we use XGBoost for the optimization with automated libraries for feature selection."
   ]
  },
  {
   "cell_type": "markdown",
   "metadata": {},
   "source": [
    "### 3.2.4 Forward Selection"
   ]
  },
  {
   "cell_type": "code",
   "execution_count": null,
   "metadata": {},
   "outputs": [],
   "source": [
    "# === Load Data ===\n",
    "X = df.drop(columns=[\"fallen\", \"id\", \"procedure\", \"diagnosis\", \"ICD10_category\", \"procedure_category\"])  # Features\n",
    "y = df[\"fallen\"]  # Target\n",
    "\n",
    "# Split data into training and validation sets\n",
    "X_train, X_val, y_train, y_val = train_test_split(X, y, test_size=0.2, random_state=42, stratify=y)\n",
    "\n",
    "# Define the Random Forest model with specified hyperparameters\n",
    "rf_model = RandomForestClassifier(\n",
    "    n_estimators=20,\n",
    "    max_depth=10,\n",
    "    max_features='sqrt',\n",
    "    min_samples_leaf=2,\n",
    "    min_samples_split=5,\n",
    "    random_state=42,\n",
    "    n_jobs=-1\n",
    ")\n",
    "\n",
    "# Set up the SequentialFeatureSelector with forward selection\n",
    "selector = SequentialFeatureSelector(\n",
    "    estimator=rf_model,\n",
    "    n_features_to_select=10,\n",
    "    direction='forward',  # Forward selection\n",
    "    scoring='average_precision',  # AUPRC scoring\n",
    "    cv=5,  # 5-fold cross-validation\n",
    "    n_jobs=-1  # Use all CPUs\n",
    ")\n",
    "\n",
    "# Fit the feature selector on the training data\n",
    "selector.fit(X_train, y_train)\n",
    "\n",
    "# Get the selected feature indices and names\n",
    "selected_features = selector.get_support(indices=True)\n",
    "selected_feature_names = X.columns[selected_features]\n",
    "\n",
    "print(f\"Selected feature indices: {selected_features}\")"
   ]
  },
  {
   "cell_type": "code",
   "execution_count": null,
   "metadata": {},
   "outputs": [],
   "source": [
    "print(f\"Selected feature names: {selected_feature_names.tolist()}\")"
   ]
  },
  {
   "cell_type": "code",
   "execution_count": null,
   "metadata": {},
   "outputs": [],
   "source": [
    "columns_to_keep = [\n",
    "    \"fallen\", \"id\", \"procedure\", \"diagnosis\", \"ICD10_category\", \"procedure_category\",\n",
    "    \"age\", \"walk-balance_and_gait_impaired\", \"fall-while_stay_True\",\n",
    "    \"fall-while_transfer_True\", \"psychotropic_or_sedatives_drugs_True\",\n",
    "    \"psychotropic_or_sedatives_drugs_Unknown\", \"transfer_1\", \"walk-jones_1\",\n",
    "    \"ICD10_O\", \"MC2\"\n",
    "]\n",
    "\n",
    "# Keep only these columns in the DataFrame\n",
    "df_filtered = df[columns_to_keep]"
   ]
  },
  {
   "cell_type": "code",
   "execution_count": null,
   "metadata": {},
   "outputs": [],
   "source": [
    "rf_pipeline(df_filtered)"
   ]
  },
  {
   "cell_type": "code",
   "execution_count": null,
   "metadata": {},
   "outputs": [],
   "source": [
    "X_train_selected = X_train.iloc[:, selected_features]\n",
    "X_train_selected"
   ]
  },
  {
   "cell_type": "markdown",
   "metadata": {},
   "source": [
    "Interpretation:\n",
    "Forward Slection is a greedy selection method. The above shown features lead to the greatest imporvement of performance. For the scorer avergae_precision was used which is similar to AUPRC."
   ]
  },
  {
   "cell_type": "markdown",
   "metadata": {},
   "source": [
    "### 3.2.5 Tpot "
   ]
  },
  {
   "cell_type": "code",
   "execution_count": 60,
   "metadata": {},
   "outputs": [
    {
     "ename": "ModuleNotFoundError",
     "evalue": "No module named 'tpot'",
     "output_type": "error",
     "traceback": [
      "\u001b[0;31m---------------------------------------------------------------------------\u001b[0m",
      "\u001b[0;31mModuleNotFoundError\u001b[0m                       Traceback (most recent call last)",
      "Cell \u001b[0;32mIn[60], line 1\u001b[0m\n\u001b[0;32m----> 1\u001b[0m \u001b[38;5;28;01mimport\u001b[39;00m\u001b[38;5;250m \u001b[39m\u001b[38;5;21;01mtpot\u001b[39;00m\n\u001b[1;32m      2\u001b[0m \u001b[38;5;28;01mfrom\u001b[39;00m\u001b[38;5;250m \u001b[39m\u001b[38;5;21;01msklearn\u001b[39;00m\u001b[38;5;21;01m.\u001b[39;00m\u001b[38;5;21;01mmetrics\u001b[39;00m\u001b[38;5;250m \u001b[39m\u001b[38;5;28;01mimport\u001b[39;00m average_precision_score\n\u001b[1;32m      3\u001b[0m auprc_scorer \u001b[38;5;241m=\u001b[39m make_scorer(average_precision_score, average\u001b[38;5;241m=\u001b[39m\u001b[38;5;124m'\u001b[39m\u001b[38;5;124mmacro\u001b[39m\u001b[38;5;124m'\u001b[39m)\n",
      "\u001b[0;31mModuleNotFoundError\u001b[0m: No module named 'tpot'"
     ]
    }
   ],
   "source": [
    "import tpot\n",
    "from sklearn.metrics import average_precision_score\n",
    "auprc_scorer = make_scorer(average_precision_score, average='macro')\n",
    "\n",
    "y = df[\"fallen\"]\n",
    "X = df.drop(columns=[\"fallen\", \"id\", \"procedure\", \"diagnosis\", \"ICD10_category\", \"procedure_category\"])\n",
    "\n",
    "X_train, X_test, y_train, y_test = train_test_split(X, y, test_size=0.2, stratify=y)\n",
    "est = tpot.TPOTClassifier(scorers=auprc_scorer, max_time_mins=40, verbose=3, warm_start=True)\n",
    "est.fit(X_train,y_train)\n"
   ]
  },
  {
   "cell_type": "markdown",
   "metadata": {},
   "source": [
    "### 3.2.6 LDA"
   ]
  },
  {
   "cell_type": "code",
   "execution_count": null,
   "metadata": {},
   "outputs": [],
   "source": [
    "print(est.fitted_pipeline_)"
   ]
  },
  {
   "cell_type": "code",
   "execution_count": null,
   "metadata": {},
   "outputs": [],
   "source": [
    "# Get model predictions on the test set\n",
    "y_pred_prob = est.predict_proba(X_test)[:, 1]  # Get probabilities for the positive class\n",
    "\n",
    "# Calculate the AUPRC\n",
    "auprc_score = average_precision_score(y_test, y_pred_prob)\n",
    "\n",
    "print(f\"AUPRC Score: {auprc_score}\")"
   ]
  },
  {
   "cell_type": "markdown",
   "metadata": {},
   "source": [
    "Interpretation: Tpot is an AutoML library that handles everything from feature selection to model selection to feature engineering. We ran it several times. However the best model identified by tpot was a LinearDiscriminantAnalysis with several preprocessing steps. This model however achieved a worse performance than the Logistic Regression from part a)!!!\n",
    "\n",
    "So it is not used further.\n",
    "\n",
    "Instead the identified 10 most important features identified by forward selection are used again to train the XGBoost model."
   ]
  },
  {
   "cell_type": "code",
   "execution_count": null,
   "metadata": {},
   "outputs": [],
   "source": [
    "\n",
    "def xgb_m_pipeline(df):\n",
    "    \"\"\"\n",
    "    Trains and evaluates a Decision Tree model with hyperparameter tuning,\n",
    "    finds the best threshold for recall/precision, and visualizes performance.\n",
    "\n",
    "    Args:\n",
    "        df (pd.DataFrame): The cleaned dataset.\n",
    "        target_col (str): Target variable name.\n",
    "        test_size (float): Train-test split ratio.\n",
    "        random_state (int): Random seed for reproducibility.\n",
    "\n",
    "    Returns:\n",
    "        dict: Model performance metrics.\n",
    "    \"\"\"\n",
    "\n",
    "\n",
    "    # === Load Data ===\n",
    "    X = df.drop(columns=[\"fallen\"])  # Features\n",
    "    y = df[\"fallen\"]  # Target\n",
    "\n",
    "    # Split train/test sets\n",
    "    # Use stratified sampling to ensure balanced class distribution\n",
    "    X_train, X_test, y_train, y_test = train_test_split(\n",
    "        X, y, test_size=0.2, random_state=42, stratify=y\n",
    "    )\n",
    "\n",
    "\n",
    "    # === Step 1: Define Model & Parameter Grid ===\n",
    "    model = xgb.XGBClassifier()\n",
    "\n",
    "    param_grid = {\n",
    "        'n_estimators': [100, 200],\n",
    "        'max_depth': [3, 6],\n",
    "        'learning_rate': [0.01, 0.1]\n",
    "    }\n",
    "\n",
    "    # === Step 2: Hyperparameter Tuning using GridSearchCV ===\n",
    "    grid_search = GridSearchCV(model, param_grid, scoring=\"recall\", cv=5, n_jobs=-1)\n",
    "    grid_search.fit(X_train, y_train)\n",
    "\n",
    "    # Best model after tuning\n",
    "    best_classifier = grid_search.best_estimator_\n",
    "\n",
    "    # Print the best parameters and best score\n",
    "    print(\"\\nBest parameters found:\")\n",
    "    print(grid_search.best_params_)\n",
    "    print(f\"Best cross-validation recall: {grid_search.best_score_:.4f}\")\n",
    "\n",
    "\n",
    "\n",
    "    # Train a model with the best parameters\n",
    "    best_classifier.fit(X_train, y_train)\n",
    "\n",
    "    # Evaluate on test set\n",
    "    y_pred_best_classifier = best_classifier.predict(X_test)\n",
    "    print(np.unique(y_pred_best_classifier, return_counts=True))\n",
    "\n",
    "    print(\"\\nTest set performance with optimized hyperparameters:\")\n",
    "    print(f\"Recall: {recall_score(y_test, y_pred_best_classifier):.4f}\")\n",
    "    print(classification_report(y_test, y_pred_best_classifier))\n",
    "\n",
    "\n",
    "    # === Step 3: Cross-Validation Prediction for Evaluation ===\n",
    "    cv = StratifiedKFold(n_splits=5)\n",
    "    y_probs = cross_val_predict(best_classifier, X, y, cv=cv, method=\"predict_proba\")[:, 1]\n",
    "\n",
    "\n",
    "\n",
    "    # === Step 4: Compute AUC-PR ===\n",
    "    precision, recall, thresholds = precision_recall_curve(y, y_probs)\n",
    "    auc_pr = auc(recall, precision)\n",
    "    roc_auc = roc_auc_score(y, y_probs)\n",
    "\n",
    "    print(f\"AUC-PR Score: {auc_pr:.4f}\")\n",
    "    print(f\"ROC-AUC Score: {roc_auc:.4f}\")\n",
    "\n",
    "    # === Step 5: Plot Precision-Recall Curve ===\n",
    "    plt.figure(figsize=(8, 6))\n",
    "    plt.plot(recall, precision, marker=\".\", label=f\"AUC-PR = {auc_pr:.4f}\")\n",
    "    plt.xlabel(\"Recall\")\n",
    "    plt.ylabel(\"Precision\")\n",
    "    plt.title(\"Precision-Recall Curve\")\n",
    "    plt.legend()\n",
    "    plt.grid()\n",
    "    plt.show()\n",
    "\n",
    "    # === Step 6: Histogram of Prediction Probabilities ===\n",
    "    plt.figure(figsize=(8, 6))\n",
    "    plt.hist(y_probs, bins=30, color='skyblue', edgecolor='black', alpha=0.7)\n",
    "    plt.title(\"Histogram of Predicted Fall Probabilities\")\n",
    "    plt.xlabel(\"Predicted Probability of Fall (fallen=1)\")\n",
    "    plt.ylabel(\"Frequency\")\n",
    "\n",
    "    # Apply logarithmic scale to y-axis\n",
    "    plt.yscale('log')\n",
    "    plt.grid(True)\n",
    "    plt.show()\n",
    "\n",
    "    # === Step 7: Find Best Threshold for Recall-Precision Tradeoff ===\n",
    "    best_threshold = thresholds[np.argmax(precision * recall)]\n",
    "    print(f\"Best Threshold for Precision-Recall Balance: {best_threshold:.4f}\")\n",
    "\n",
    "    # Apply the best threshold\n",
    "    y_pred = (y_probs >= best_threshold).astype(int)\n",
    "\n",
    "    # === Step 8: Confusion Matrix ===\n",
    "    cm = confusion_matrix(y, y_pred)\n",
    "    sns.heatmap(cm, annot=True, fmt=\"d\", cmap=\"Blues\", xticklabels=[\"Not Fall\", \"Fall\"], yticklabels=[\"Not Fall\", \"Fall\"])\n",
    "    plt.xlabel(\"Predicted Label\")\n",
    "    plt.ylabel(\"True Label\")\n",
    "    plt.title(\"Confusion Matrix\")\n",
    "    plt.show()\n",
    "\n",
    "    # === Step 9: Feature Importance ===\n",
    "    feature_importances = pd.DataFrame(\n",
    "        {\"Feature\": X.columns, \"Importance\": best_classifier.feature_importances_}\n",
    "    ).sort_values(by=\"Importance\", ascending=False)\n",
    "\n",
    "    print(\"Top 10 Important Features:\")\n",
    "    print(feature_importances.head(30))\n",
    "\n",
    "    print(\"Shap Values for the train set\")\n",
    "    explainer = shap.TreeExplainer(best_classifier)\n",
    "    shap_values_train = explainer(X_train)\n",
    "\n",
    "    shap.plots.waterfall(shap_values_train[0])\n",
    "\n",
    "    shap.plots.bar(shap_values_train)\n",
    "    shap.summary_plot(shap_values_train, X_train, plot_type=\"bar\")\n",
    "\n",
    "    shap.plots.beeswarm(shap_values_train)\n",
    "\n",
    "    print(\"Shap Values for the test set\")\n",
    "    shap_values_test = explainer(X_test)\n",
    "    shap.plots.waterfall(shap_values_test[0])\n",
    "\n",
    "    shap.plots.bar(shap_values_test)\n",
    "    shap.summary_plot(shap_values_test, X_test, plot_type=\"bar\")\n",
    "\n",
    "    shap.plots.beeswarm(shap_values_test)\n",
    "\n"
   ]
  },
  {
   "cell_type": "code",
   "execution_count": null,
   "metadata": {},
   "outputs": [],
   "source": [
    "xgb_m_pipeline(df1)"
   ]
  },
  {
   "cell_type": "markdown",
   "metadata": {},
   "source": [
    "Interpretation:\n",
    "The reduced XGBoost with only 10 variables achieved the best outcomes with a AUPRC of 0.28\n",
    "The variable seems to hav an overwhelmingly large effect. As already seen further above, even though age was seen in the Boxplot to also have a strong effect on fallen. However the forward selection did not use it at all. A possible cause for this might be that age and walk and balance impaired are highly correlated aswell. Adding age when walk and balance is already in the dataset only introduces collinearity and noise. "
   ]
  },
  {
   "cell_type": "markdown",
   "metadata": {},
   "source": []
  },
  {
   "cell_type": "markdown",
   "metadata": {},
   "source": [
    "# Section 4: Model Evaluation and Interpretation"
   ]
  },
  {
   "cell_type": "markdown",
   "metadata": {},
   "source": [
    "## 4.1 Strenghts and Weaknesses"
   ]
  },
  {
   "cell_type": "markdown",
   "metadata": {},
   "source": [
    "XGBoost is more complex and it is not as interpretable as the log. reg. \n",
    "Furthermore it is more complex and takes longer to compute. Especially in a real-time envirotnment like hospitals models should be runtime efficient,\n",
    "\n",
    "Strenghts:\n",
    "-better performance\n",
    "\n",
    "\n",
    "RECALL!\n",
    "\n",
    "Challange if integrated:\n",
    "- if the model is implemented Nachvollziehbarkeit aus ethischen Gründen\n",
    "- possible high risk fall patient receives counter-measures or medications that he does not need\n",
    "- at the same time it would be fatal to not realize a patient is it a high risk of falling\n",
    "- rechtliche Challanges (who is accountable machine or doctor in case somthing foes wrong)\n",
    "- patient/doctor relationships might be harmed \n",
    "\n",
    "Actionable not obvious during data exploration:\n",
    "- that walk and balance impaired captures almost all the variance\n",
    "- the fact that the second most important variable is an Unknown variable shows that NaNs are missing at random, i.e. there is predictive power in missingness"
   ]
  },
  {
   "cell_type": "markdown",
   "metadata": {},
   "source": [
    "## 4.2 Practical Challenges of Model Implementation"
   ]
  },
  {
   "cell_type": "markdown",
   "metadata": {},
   "source": []
  },
  {
   "cell_type": "markdown",
   "metadata": {},
   "source": [
    "## 4.3 Actionable Insights"
   ]
  }
 ],
 "metadata": {
  "kernelspec": {
   "display_name": "aa_monday",
   "language": "python",
   "name": "python3"
  },
  "language_info": {
   "codemirror_mode": {
    "name": "ipython",
    "version": 3
   },
   "file_extension": ".py",
   "mimetype": "text/x-python",
   "name": "python",
   "nbconvert_exporter": "python",
   "pygments_lexer": "ipython3",
   "version": "3.9.21"
  }
 },
 "nbformat": 4,
 "nbformat_minor": 2
}
